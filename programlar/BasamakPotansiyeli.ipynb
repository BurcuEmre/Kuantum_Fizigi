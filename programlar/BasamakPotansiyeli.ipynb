{
 "cells": [
  {
   "cell_type": "markdown",
   "metadata": {},
   "source": [
    "# Bir boyutlu potansiyeller\n",
    "\n",
    "## Basamak potansiyelinin incelenmesi"
   ]
  },
  {
   "cell_type": "code",
   "execution_count": 1,
   "metadata": {
    "ExecuteTime": {
     "end_time": "2018-11-21T09:37:19.758665Z",
     "start_time": "2018-11-21T09:37:19.255591Z"
    }
   },
   "outputs": [],
   "source": [
    "%matplotlib inline\n",
    "import matplotlib.pyplot as plt\n",
    "import numpy as np\n",
    "from sympy import *\n",
    "from IPython.display import Math\n",
    "init_printing()"
   ]
  },
  {
   "cell_type": "code",
   "execution_count": 2,
   "metadata": {
    "ExecuteTime": {
     "end_time": "2018-11-21T09:37:19.770205Z",
     "start_time": "2018-11-21T09:37:19.762036Z"
    }
   },
   "outputs": [],
   "source": [
    "x = symbols('x', real=True)\n",
    "hbar, m = symbols('hbar, m', real=True, positive=True)\n",
    "En, V_0, k, q = symbols('En, V_0, k, q', real=True, positive=True)\n",
    "R, T = symbols('R, T')\n",
    "\n",
    "u = Function('u')\n",
    "V = Function('V')\n",
    "\n",
    "lprint = lambda X, F: display(Math(X + latex(F)))\n",
    "rprint = lambda F, X: display(Math(latex(F) + X))\n",
    "eprint = lambda F1, X, F2: display(Math(latex(F1) + X + latex(F2) ))"
   ]
  },
  {
   "cell_type": "code",
   "execution_count": 3,
   "metadata": {
    "ExecuteTime": {
     "end_time": "2018-11-21T09:37:20.078493Z",
     "start_time": "2018-11-21T09:37:19.773444Z"
    }
   },
   "outputs": [
    {
     "data": {
      "text/latex": [
       "$$k^{2} u{\\left (x \\right )} + \\frac{d^{2}}{d x^{2}}  u{\\left (x \\right )}= 0$$"
      ],
      "text/plain": [
       "<IPython.core.display.Math object>"
      ]
     },
     "metadata": {},
     "output_type": "display_data"
    },
    {
     "data": {
      "image/png": "[encoded data removed]",
      "text/latex": [
       "$$u{\\left (x \\right )} = C_{1} \\sin{\\left (k x \\right )} + C_{2} \\cos{\\left (k x \\right )}$$"
      ],
      "text/plain": [
       "u(x) = C₁⋅sin(k⋅x) + C₂⋅cos(k⋅x)"
      ]
     },
     "metadata": {},
     "output_type": "display_data"
    }
   ],
   "source": [
    "eq = diff(u(x), x, x) + k**2 * u(x)\n",
    "sol = dsolve(eq)\n",
    "\n",
    "rprint(eq, \"= 0\")\n",
    "display(sol)"
   ]
  },
  {
   "cell_type": "code",
   "execution_count": 4,
   "metadata": {
    "ExecuteTime": {
     "end_time": "2018-11-21T09:37:20.141115Z",
     "start_time": "2018-11-21T09:37:20.081257Z"
    }
   },
   "outputs": [
    {
     "data": {
      "text/latex": [
       "$$j(x) = \\frac{i \\hbar}{2 m} \\left(u{\\left (x \\right )} \\overline{\\frac{d}{d x} u{\\left (x \\right )}} - \\overline{u{\\left (x \\right )}} \\frac{d}{d x} u{\\left (x \\right )}\\right)$$"
      ],
      "text/plain": [
       "<IPython.core.display.Math object>"
      ]
     },
     "metadata": {},
     "output_type": "display_data"
    }
   ],
   "source": [
    "u = Function('u')\n",
    "\n",
    "j = lambda x: hbar/(2*I*m)*(conjugate(u(x)) * diff(u(x),x) - conjugate(diff(u(x),x))*u(x))\n",
    "lprint(\"j(x) = \", simplify(j(x)))"
   ]
  },
  {
   "cell_type": "code",
   "execution_count": 5,
   "metadata": {
    "ExecuteTime": {
     "end_time": "2018-11-21T09:37:20.241040Z",
     "start_time": "2018-11-21T09:37:20.145628Z"
    }
   },
   "outputs": [
    {
     "data": {
      "text/latex": [
       "$$u(x) = R e^{- i k x} + e^{i k x}$$"
      ],
      "text/plain": [
       "<IPython.core.display.Math object>"
      ]
     },
     "metadata": {},
     "output_type": "display_data"
    }
   ],
   "source": [
    "u1 = lambda x: exp(I*k*x) + R*exp(-I*k*x)\n",
    "lprint(\"u(x) = \", u1(x))"
   ]
  },
  {
   "cell_type": "code",
   "execution_count": 6,
   "metadata": {
    "ExecuteTime": {
     "end_time": "2018-11-21T09:37:20.500468Z",
     "start_time": "2018-11-21T09:37:20.244315Z"
    }
   },
   "outputs": [
    {
     "data": {
      "text/latex": [
       "$$j(x) = \\frac{\\hbar k}{m} \\left(- R \\overline{R} + 1\\right)$$"
      ],
      "text/plain": [
       "<IPython.core.display.Math object>"
      ]
     },
     "metadata": {},
     "output_type": "display_data"
    }
   ],
   "source": [
    "u = u1\n",
    "j1 = simplify(expand(j(x)))\n",
    "lprint(\"j(x) = \", j1)"
   ]
  },
  {
   "cell_type": "code",
   "execution_count": 7,
   "metadata": {
    "ExecuteTime": {
     "end_time": "2018-11-21T09:37:20.594755Z",
     "start_time": "2018-11-21T09:37:20.503722Z"
    }
   },
   "outputs": [
    {
     "data": {
      "text/latex": [
       "$$u(x) = T e^{i q x}$$"
      ],
      "text/plain": [
       "<IPython.core.display.Math object>"
      ]
     },
     "metadata": {},
     "output_type": "display_data"
    }
   ],
   "source": [
    "u2 = lambda x: T*exp(I*q*x)\n",
    "display(Math(\"u(x) = \"+ latex(u2(x))))"
   ]
  },
  {
   "cell_type": "code",
   "execution_count": 8,
   "metadata": {
    "ExecuteTime": {
     "end_time": "2018-11-21T09:37:20.699240Z",
     "start_time": "2018-11-21T09:37:20.598025Z"
    }
   },
   "outputs": [
    {
     "data": {
      "text/latex": [
       "$$j(x) = \\frac{\\hbar q}{m} \\left|{T^{2}}\\right|$$"
      ],
      "text/plain": [
       "<IPython.core.display.Math object>"
      ]
     },
     "metadata": {},
     "output_type": "display_data"
    }
   ],
   "source": [
    "u = u2\n",
    "j2 = Abs(expand(j(x)))\n",
    "lprint(\"j(x) = \", j2)"
   ]
  },
  {
   "cell_type": "markdown",
   "metadata": {},
   "source": [
    "### Korunum ilkesinden"
   ]
  },
  {
   "cell_type": "code",
   "execution_count": 9,
   "metadata": {
    "ExecuteTime": {
     "end_time": "2018-11-21T09:37:20.785591Z",
     "start_time": "2018-11-21T09:37:20.702520Z"
    }
   },
   "outputs": [
    {
     "data": {
      "text/latex": [
       "$$\\frac{\\hbar k}{m} \\left(- R \\overline{R} + 1\\right)=\\frac{\\hbar q}{m} \\left|{T^{2}}\\right|$$"
      ],
      "text/plain": [
       "<IPython.core.display.Math object>"
      ]
     },
     "metadata": {},
     "output_type": "display_data"
    }
   ],
   "source": [
    "eprint(j1, \"=\" , j2)"
   ]
  },
  {
   "cell_type": "markdown",
   "metadata": {},
   "source": [
    "### Dalga fonksiyonunun sürekliliğinden"
   ]
  },
  {
   "cell_type": "code",
   "execution_count": 10,
   "metadata": {
    "ExecuteTime": {
     "end_time": "2018-11-21T09:37:20.875861Z",
     "start_time": "2018-11-21T09:37:20.788931Z"
    }
   },
   "outputs": [
    {
     "data": {
      "text/latex": [
       "$$R + 1=T$$"
      ],
      "text/plain": [
       "<IPython.core.display.Math object>"
      ]
     },
     "metadata": {},
     "output_type": "display_data"
    }
   ],
   "source": [
    "eprint(u1(0), \"=\" ,u2(0))"
   ]
  },
  {
   "cell_type": "markdown",
   "metadata": {},
   "source": [
    "### Türevlerin sürekliliğinden"
   ]
  },
  {
   "cell_type": "code",
   "execution_count": 11,
   "metadata": {
    "ExecuteTime": {
     "end_time": "2018-11-21T09:37:21.054444Z",
     "start_time": "2018-11-21T09:37:20.879103Z"
    }
   },
   "outputs": [
    {
     "data": {
      "text/latex": [
       "$$\\frac{d u(x)}{dx}|_{x=0-} = i k \\left(- R + 1\\right)$$"
      ],
      "text/plain": [
       "<IPython.core.display.Math object>"
      ]
     },
     "metadata": {},
     "output_type": "display_data"
    },
    {
     "data": {
      "text/latex": [
       "$$\\frac{d u(x)}{dx}|_{x=0+} = i T q$$"
      ],
      "text/plain": [
       "<IPython.core.display.Math object>"
      ]
     },
     "metadata": {},
     "output_type": "display_data"
    },
    {
     "data": {
      "text/latex": [
       "$$i k \\left(- R + 1\\right)=i T q$$"
      ],
      "text/plain": [
       "<IPython.core.display.Math object>"
      ]
     },
     "metadata": {},
     "output_type": "display_data"
    }
   ],
   "source": [
    "du1 = simplify(diff(u1(x), x).subs(x, 0))\n",
    "du2 = diff(u2(x), x).subs(x, 0)\n",
    "lprint(\"\\\\frac{d u(x)}{dx}|_{x=0-} = \", du1)\n",
    "lprint(\"\\\\frac{d u(x)}{dx}|_{x=0+} = \", du2)\n",
    "eprint(du1,\"=\",du2)"
   ]
  },
  {
   "cell_type": "markdown",
   "metadata": {},
   "source": [
    "### Yansıma (R) ve geçiş (T) katsayıları"
   ]
  },
  {
   "cell_type": "code",
   "execution_count": 12,
   "metadata": {
    "ExecuteTime": {
     "end_time": "2018-11-21T09:37:21.238234Z",
     "start_time": "2018-11-21T09:37:21.057647Z"
    }
   },
   "outputs": [
    {
     "data": {
      "text/latex": [
       "$$R =\\frac{k - q}{k + q}$$"
      ],
      "text/plain": [
       "<IPython.core.display.Math object>"
      ]
     },
     "metadata": {},
     "output_type": "display_data"
    },
    {
     "data": {
      "text/latex": [
       "$$T =\\frac{2 k}{k + q}$$"
      ],
      "text/plain": [
       "<IPython.core.display.Math object>"
      ]
     },
     "metadata": {},
     "output_type": "display_data"
    }
   ],
   "source": [
    "u12 = u1(0) - u2(0)\n",
    "du12 = du1 - du2\n",
    "sol = solve((u12, du12), T, R)\n",
    "lprint(\"R =\", sol[R])\n",
    "lprint(\"T =\", sol[T])"
   ]
  },
  {
   "cell_type": "markdown",
   "metadata": {},
   "source": [
    "### Yansıma (R) ve geçiş (T) akıları"
   ]
  },
  {
   "cell_type": "code",
   "execution_count": 13,
   "metadata": {
    "ExecuteTime": {
     "end_time": "2018-11-21T09:37:21.263924Z",
     "start_time": "2018-11-21T09:37:21.240367Z"
    }
   },
   "outputs": [
    {
     "data": {
      "text/latex": [
       "$$j_R =\\frac{\\hbar k \\left(k - q\\right)^{2}}{m \\left(k + q\\right)^{2}}$$"
      ],
      "text/plain": [
       "<IPython.core.display.Math object>"
      ]
     },
     "metadata": {},
     "output_type": "display_data"
    },
    {
     "data": {
      "text/latex": [
       "$$j_T =\\frac{4 \\hbar k^{2} q}{m \\left(k + q\\right)^{2}}$$"
      ],
      "text/plain": [
       "<IPython.core.display.Math object>"
      ]
     },
     "metadata": {},
     "output_type": "display_data"
    }
   ],
   "source": [
    "jR = hbar*k/m * sol[R]**2 \n",
    "jT = hbar*q/m * sol[T]**2\n",
    "lprint(\"j_R =\", jR)\n",
    "lprint(\"j_T =\", jT)"
   ]
  },
  {
   "cell_type": "markdown",
   "metadata": {},
   "source": [
    "### Yansıma (R) ve geçiş (T) akıları: $E$ ve $V_0$ cinsinden"
   ]
  },
  {
   "cell_type": "code",
   "execution_count": 14,
   "metadata": {
    "ExecuteTime": {
     "end_time": "2018-11-21T09:37:21.497750Z",
     "start_time": "2018-11-21T09:37:21.267083Z"
    }
   },
   "outputs": [
    {
     "data": {
      "text/latex": [
       "$$j_R =\\frac{En V_{0}^{2} \\hbar^{3}}{2 m^{2} \\left(2 En - V_{0}\\right)^{2}}$$"
      ],
      "text/plain": [
       "<IPython.core.display.Math object>"
      ]
     },
     "metadata": {},
     "output_type": "display_data"
    },
    {
     "data": {
      "text/latex": [
       "$$j_T =\\frac{2 En^{2} \\hbar^{3} \\left(En - V_{0}\\right)}{m^{2} \\left(2 En - V_{0}\\right)^{2}}$$"
      ],
      "text/plain": [
       "<IPython.core.display.Math object>"
      ]
     },
     "metadata": {},
     "output_type": "display_data"
    }
   ],
   "source": [
    "prms = {q:hbar**2/(2*m) * (En-V_0), k:hbar**2/(2*m) * En}\n",
    "jRe = simplify(jR.subs(prms))\n",
    "jTe = simplify(jT.subs(prms))\n",
    "lprint(\"j_R =\", jRe)\n",
    "lprint(\"j_T =\", jTe)"
   ]
  },
  {
   "cell_type": "markdown",
   "metadata": {},
   "source": [
    "### $x = E/V_0$ değişken dönüşümü"
   ]
  },
  {
   "cell_type": "code",
   "execution_count": 15,
   "metadata": {
    "ExecuteTime": {
     "end_time": "2018-11-21T09:37:21.613341Z",
     "start_time": "2018-11-21T09:37:21.500925Z"
    }
   },
   "outputs": [
    {
     "data": {
      "text/latex": [
       "$$j_R =\\frac{En \\hbar^{3}}{2 m^{2} \\left(2 x - 1\\right)^{2}}$$"
      ],
      "text/plain": [
       "<IPython.core.display.Math object>"
      ]
     },
     "metadata": {},
     "output_type": "display_data"
    },
    {
     "data": {
      "text/latex": [
       "$$j_T =\\frac{2 En \\hbar^{3} x \\left(x - 1\\right)}{m^{2} \\left(2 x - 1\\right)^{2}}$$"
      ],
      "text/plain": [
       "<IPython.core.display.Math object>"
      ]
     },
     "metadata": {},
     "output_type": "display_data"
    }
   ],
   "source": [
    "prms = {En:x*V_0, V_0:En/x}\n",
    "jRx = simplify(jRe.subs(prms))\n",
    "jTx = simplify(jTe.subs(prms))\n",
    "lprint(\"j_R =\", jRx)\n",
    "lprint(\"j_T =\", jTx)"
   ]
  },
  {
   "cell_type": "markdown",
   "metadata": {},
   "source": [
    "### $E/V_0 > 1$ için olasılık akılarının grafikleri"
   ]
  },
  {
   "cell_type": "code",
   "execution_count": 16,
   "metadata": {
    "ExecuteTime": {
     "end_time": "2018-11-21T09:37:21.858247Z",
     "start_time": "2018-11-21T09:37:21.615482Z"
    }
   },
   "outputs": [
    {
     "data": {
      "image/png": "[encoded data removed]",
      "text/plain": [
       "<matplotlib.figure.Figure at 0x7f3668bfc910>"
      ]
     },
     "metadata": {},
     "output_type": "display_data"
    }
   ],
   "source": [
    "prms = {hbar:1, m:1, En:1}\n",
    "jRxs = jRx.subs(prms)\n",
    "jTxs = jTx.subs(prms)\n",
    "\n",
    "pl = [jRxs, jTxs, jRxs + jTxs, (x, 1 , 5)]\n",
    "p = plot(*pl, xlabel=\"$E/V_0$\", ylabel= \"$j_R, j_T$\", show=False)\n",
    "p[0].line_color=\"red\"\n",
    "p[1].line_color=\"blue\"\n",
    "p[2].line_color=\"black\"\n",
    "\n",
    "p.show()"
   ]
  },
  {
   "cell_type": "markdown",
   "metadata": {},
   "source": [
    "### Yukarıdaki grafiğin Matplotlib ve NumPy kütüphaneleri ile çizimi"
   ]
  },
  {
   "cell_type": "code",
   "execution_count": 17,
   "metadata": {
    "ExecuteTime": {
     "end_time": "2018-11-21T09:37:22.132099Z",
     "start_time": "2018-11-21T09:37:21.861468Z"
    }
   },
   "outputs": [
    {
     "data": {
      "image/png": "[encoded data removed]",
      "text/plain": [
       "<matplotlib.figure.Figure at 0x7f3668be9490>"
      ]
     },
     "metadata": {},
     "output_type": "display_data"
    }
   ],
   "source": [
    "prms = {hbar:1, m:1, En:1}\n",
    "xnp = np.linspace(1, 5)\n",
    "\n",
    "\n",
    "jRxs = lambdify(x, jRx.subs(prms))\n",
    "jTxs = lambdify(x, jTx.subs(prms))\n",
    "\n",
    "plt.figure(figsize=(9, 6))\n",
    "plt.plot(xnp, np.real(jRxs(xnp)), label=\"$j_R$\",lw=2)\n",
    "plt.plot(xnp, np.real(jTxs(xnp)), label=\"$j_T$\", lw=2)\n",
    "plt.plot(xnp, np.real(jRxs(xnp)+jTxs(xnp)), label=\"$j_R + j_T$\", lw=2)\n",
    "\n",
    "plt.xlabel(\"$E/V_0$\", fontsize=28)\n",
    "plt.ylabel(\"$j$\", fontsize=28)\n",
    "plt.legend(loc=\"best\")\n",
    "plt.grid()\n",
    "plt.show()"
   ]
  }
 ],
 "metadata": {
  "hide_input": false,
  "kernelspec": {
   "display_name": "Python 2",
   "language": "python",
   "name": "python2"
  },
  "language_info": {
   "codemirror_mode": {
    "name": "ipython",
    "version": 2
   },
   "file_extension": ".py",
   "mimetype": "text/x-python",
   "name": "python",
   "nbconvert_exporter": "python",
   "pygments_lexer": "ipython2",
   "version": "2.7.6"
  },
  "toc": {
   "collapse_to_match_collapsible_headings": false,
   "colors": {
    "hover_highlight": "#DAA520",
    "running_highlight": "#FF0000",
    "selected_highlight": "#FFD700"
   },
   "moveMenuLeft": true,
   "nav_menu": {
    "height": "66px",
    "width": "252px"
   },
   "navigate_menu": true,
   "number_sections": true,
   "sideBar": true,
   "threshold": "5",
   "title_cell": "İçindekiler",
   "toc_cell": false,
   "toc_section_display": "block",
   "toc_window_display": true
  },
  "varInspector": {
   "cols": {
    "lenName": 16,
    "lenType": 16,
    "lenVar": 40
   },
   "kernels_config": {
    "python": {
     "delete_cmd_postfix": "",
     "delete_cmd_prefix": "del ",
     "library": "var_list.py",
     "varRefreshCmd": "print(var_dic_list())"
    },
    "r": {
     "delete_cmd_postfix": ") ",
     "delete_cmd_prefix": "rm(",
     "library": "var_list.r",
     "varRefreshCmd": "cat(var_dic_list()) "
    }
   },
   "types_to_exclude": [
    "module",
    "function",
    "builtin_function_or_method",
    "instance",
    "_Feature"
   ],
   "window_display": false
  }
 },
 "nbformat": 4,
 "nbformat_minor": 2
}
