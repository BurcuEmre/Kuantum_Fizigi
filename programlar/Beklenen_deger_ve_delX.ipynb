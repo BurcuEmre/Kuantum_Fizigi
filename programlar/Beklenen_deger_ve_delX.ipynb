{
 "cells": [
  {
   "cell_type": "markdown",
   "metadata": {},
   "source": [
    "# Beklenen değer"
   ]
  },
  {
   "cell_type": "code",
   "execution_count": 1,
   "metadata": {
    "ExecuteTime": {
     "end_time": "2018-10-29T17:28:33.045529Z",
     "start_time": "2018-10-29T17:28:32.701229Z"
    }
   },
   "outputs": [],
   "source": [
    "%matplotlib inline\n",
    "import sympy as s\n",
    "import numpy as np\n",
    "import matplotlib.pyplot as plt\n",
    "from IPython.display import Math, display, Markdown\n",
    "\n",
    "x = s.symbols('x', real=True)"
   ]
  },
  {
   "cell_type": "code",
   "execution_count": 2,
   "metadata": {
    "ExecuteTime": {
     "end_time": "2018-10-29T17:28:33.173265Z",
     "start_time": "2018-10-29T17:28:33.048976Z"
    }
   },
   "outputs": [
    {
     "name": "stdout",
     "output_type": "stream",
     "text": [
      "normalize edilmemiş dalga fonksiyonu ve karesi\n"
     ]
    },
    {
     "data": {
      "image/png": "[encoded data removed]",
      "text/plain": [
       "<matplotlib.figure.Figure at 0x7f7232ff6c10>"
      ]
     },
     "metadata": {},
     "output_type": "display_data"
    },
    {
     "data": {
      "text/plain": [
       "<sympy.plotting.plot.Plot at 0x7f7232ff6810>"
      ]
     },
     "execution_count": 2,
     "metadata": {},
     "output_type": "execute_result"
    }
   ],
   "source": [
    "print \"normalize edilmemiş dalga fonksiyonu ve karesi\"\n",
    "f = s.sqrt(s.exp(-(x + 4)**2) + s.exp(-(x - 4)**2)) * s.exp(-s.I*x)\n",
    "#f = s.exp(-(x)**2/2) * s.exp(-s.I*x)\n",
    "L_alt, L_ust = -s.oo, s.oo\n",
    "p_alt, p_ust = -10, 10\n",
    "\n",
    "# = s.sin(x)\n",
    "#_alt, L_ust = 0, 2*s.pi\n",
    "#_alt, p_ust = L_alt, L_ust\n",
    "\n",
    "f2 = f * f.conjugate()\n",
    "s.plot(f2, (x, p_alt, p_ust))"
   ]
  },
  {
   "cell_type": "code",
   "execution_count": 3,
   "metadata": {
    "ExecuteTime": {
     "end_time": "2018-10-29T17:28:34.168007Z",
     "start_time": "2018-10-29T17:28:33.175423Z"
    }
   },
   "outputs": [
    {
     "name": "stdout",
     "output_type": "stream",
     "text": [
      "normalizasyon katsayisi =  sqrt(2)/(2*pi**(1/4))\n"
     ]
    }
   ],
   "source": [
    "N = s.integrate(f2, (x, L_alt, L_ust))\n",
    "a = s.simplify(1/s.sqrt(N))\n",
    "\n",
    "print \"normalizasyon katsayisi = \", a\n",
    "f = a * f\n",
    "f2 = f * f.conjugate()"
   ]
  },
  {
   "cell_type": "code",
   "execution_count": 4,
   "metadata": {
    "ExecuteTime": {
     "end_time": "2018-10-29T17:28:34.373796Z",
     "start_time": "2018-10-29T17:28:34.170191Z"
    }
   },
   "outputs": [
    {
     "name": "stdout",
     "output_type": "stream",
     "text": [
      "gerçekten normalize mi?\n",
      "1\n",
      "1\n"
     ]
    }
   ],
   "source": [
    "print \"gerçekten normalize mi?\"\n",
    "N = s.integrate(f2, (x, L_alt, L_ust))\n",
    "print N\n",
    "print s.simplify(N)"
   ]
  },
  {
   "cell_type": "code",
   "execution_count": 5,
   "metadata": {
    "ExecuteTime": {
     "end_time": "2018-10-29T17:28:37.708792Z",
     "start_time": "2018-10-29T17:28:34.377042Z"
    }
   },
   "outputs": [
    {
     "name": "stdout",
     "output_type": "stream",
     "text": [
      "0\n",
      "-0.e-137\n"
     ]
    }
   ],
   "source": [
    "x_av = s.integrate(x*f2, (x, L_alt, L_ust))\n",
    "print s.simplify(x_av)\n",
    "print s.N(x_av)"
   ]
  },
  {
   "cell_type": "code",
   "execution_count": 6,
   "metadata": {
    "ExecuteTime": {
     "end_time": "2018-10-29T17:28:42.530618Z",
     "start_time": "2018-10-29T17:28:37.712099Z"
    }
   },
   "outputs": [
    {
     "name": "stdout",
     "output_type": "stream",
     "text": [
      "33/2\n",
      "16.5000000000000\n"
     ]
    }
   ],
   "source": [
    "x2_av = s.integrate(x**2*f2, (x, L_alt, L_ust))\n",
    "print s.simplify(x2_av)\n",
    "print s.N(x2_av)"
   ]
  },
  {
   "cell_type": "code",
   "execution_count": 7,
   "metadata": {
    "ExecuteTime": {
     "end_time": "2018-10-29T17:28:43.329939Z",
     "start_time": "2018-10-29T17:28:42.533851Z"
    }
   },
   "outputs": [
    {
     "name": "stdout",
     "output_type": "stream",
     "text": [
      "sqrt(66)/2\n",
      "4.06201920231798\n"
     ]
    }
   ],
   "source": [
    "del_x = s.sqrt(x2_av - x_av**2)\n",
    "print s.simplify(del_x)\n",
    "print s.N(del_x)"
   ]
  },
  {
   "cell_type": "code",
   "execution_count": 8,
   "metadata": {
    "ExecuteTime": {
     "end_time": "2018-10-29T17:28:43.429095Z",
     "start_time": "2018-10-29T17:28:43.333167Z"
    }
   },
   "outputs": [],
   "source": [
    "# sympy tipi fonksiyonu ve değişkeni numpy tipine dönüştür\n",
    "f2np = s.lambdify(x, f2, \"numpy\")\n",
    "x_av_np = np.float(s.N(x_av))\n",
    "del_x_np = np.float(s.N(del_x))"
   ]
  },
  {
   "cell_type": "code",
   "execution_count": 9,
   "metadata": {
    "ExecuteTime": {
     "end_time": "2018-10-29T17:28:44.026115Z",
     "start_time": "2018-10-29T17:28:43.432399Z"
    }
   },
   "outputs": [
    {
     "data": {
      "image/png": "[encoded data removed]",
      "text/plain": [
       "<matplotlib.figure.Figure at 0x7f7230b310d0>"
      ]
     },
     "metadata": {},
     "output_type": "display_data"
    }
   ],
   "source": [
    "n_sigma = 3 #plot width \n",
    "\n",
    "if abs(L_alt)==s.oo or abs(L_ust)==s.oo:\n",
    "    x_mesh = np.linspace(x_av_np-n_sigma*del_x_np, x_av_np+n_sigma*del_x_np, 400)\n",
    "else:\n",
    "    x_mesh = np.linspace(p_alt, np.float(p_ust), 400)\n",
    "\n",
    "ymax = max(f2np(x_mesh))\n",
    "ymin = min(f2np(x_mesh))\n",
    "dy = abs(ymax - ymin)*.1\n",
    "\n",
    "plt.plot(x_mesh, f2np(x_mesh))\n",
    "plt.plot([x_av-del_x, x_av-del_x], [0, f2np(x_av_np-del_x_np)], color=\"red\")\n",
    "plt.plot([x_av+del_x, x_av+del_x], [0, f2np(x_av_np+del_x_np)], color=\"red\")\n",
    "plt.xlabel(\"$x$\", fontsize=24)\n",
    "plt.ylabel(\"$|\\psi(x)|^2$\", fontsize=24)\n",
    "plt.xlim(x_mesh[0], x_mesh[-1])\n",
    "plt.ylim(ymin-dy, ymax+dy)\n",
    "plt.grid()"
   ]
  },
  {
   "cell_type": "code",
   "execution_count": null,
   "metadata": {},
   "outputs": [],
   "source": []
  }
 ],
 "metadata": {
  "hide_input": false,
  "kernelspec": {
   "display_name": "Python 2",
   "language": "python",
   "name": "python2"
  },
  "language_info": {
   "codemirror_mode": {
    "name": "ipython",
    "version": 2
   },
   "file_extension": ".py",
   "mimetype": "text/x-python",
   "name": "python",
   "nbconvert_exporter": "python",
   "pygments_lexer": "ipython2",
   "version": "2.7.6"
  },
  "toc": {
   "collapse_to_match_collapsible_headings": false,
   "colors": {
    "hover_highlight": "#DAA520",
    "running_highlight": "#FF0000",
    "selected_highlight": "#FFD700"
   },
   "moveMenuLeft": true,
   "nav_menu": {
    "height": "30px",
    "width": "252px"
   },
   "navigate_menu": true,
   "number_sections": true,
   "sideBar": true,
   "threshold": "5",
   "title_cell": "İçindekiler",
   "toc_cell": false,
   "toc_section_display": "block",
   "toc_window_display": false
  },
  "varInspector": {
   "cols": {
    "lenName": 16,
    "lenType": 16,
    "lenVar": 40
   },
   "kernels_config": {
    "python": {
     "delete_cmd_postfix": "",
     "delete_cmd_prefix": "del ",
     "library": "var_list.py",
     "varRefreshCmd": "print(var_dic_list())"
    },
    "r": {
     "delete_cmd_postfix": ") ",
     "delete_cmd_prefix": "rm(",
     "library": "var_list.r",
     "varRefreshCmd": "cat(var_dic_list()) "
    }
   },
   "types_to_exclude": [
    "module",
    "function",
    "builtin_function_or_method",
    "instance",
    "_Feature"
   ],
   "window_display": false
  }
 },
 "nbformat": 4,
 "nbformat_minor": 2
}
