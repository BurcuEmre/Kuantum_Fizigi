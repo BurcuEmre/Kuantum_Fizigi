{
 "cells": [
  {
   "cell_type": "markdown",
   "metadata": {},
   "source": [
    "# Rutherford ve Bohr atom modeli örnekleri"
   ]
  },
  {
   "cell_type": "code",
   "execution_count": 1,
   "metadata": {
    "ExecuteTime": {
     "end_time": "2018-10-12T12:35:16.754231Z",
     "start_time": "2018-10-12T12:35:16.749657Z"
    }
   },
   "outputs": [],
   "source": [
    "pi = 3.14159                   # pi sayısı\n",
    "alfa = 1/137.036 # birimsiz      ince yapı sabiit\n",
    "mec2 = 0.511*1e6 # eV            elektronun kütlesi E = mc^2'ye göre\n",
    "hbar = 6.58 * 1e-16 # eV s/rad   planck sabiti\n",
    "h = 2*pi*hbar # eV s             planck sabiti\n",
    "c = 3*1e8 # m/s                  ışık hızı\n",
    "\n",
    "# Bohr atom modeline göre bir elektronun kararlı yörünge enerjisi\n",
    "E = lambda Z, n: -(1./2) * mec2 * Z * alfa**2 / float(n**2)"
   ]
  },
  {
   "cell_type": "code",
   "execution_count": 2,
   "metadata": {
    "ExecuteTime": {
     "end_time": "2018-10-12T12:35:16.899978Z",
     "start_time": "2018-10-12T12:35:16.756487Z"
    }
   },
   "outputs": [
    {
     "name": "stdout",
     "output_type": "stream",
     "text": [
      "E_1 = -13.606 eV\n",
      "E_2 =  -3.401 eV\n",
      "E_2 - E_1 =  10.204 eV\n",
      "f = 1.551e+16 rad/s\n",
      "f = 2.468e+15 Hz\n",
      "lamda = 1.215e-07 m = 1215.469 Angstrom\n"
     ]
    }
   ],
   "source": [
    "# hidrojen atomu (Z=1) için \n",
    "E1 = E(1,1)\n",
    "E2 = E(1,2)\n",
    "DE = E(1,2) - E(1,1)\n",
    "f = DE/h\n",
    "fbar = DE/hbar\n",
    "lamda = c/f\n",
    "\n",
    "# n = 1 ve n = 2 seviyelerinde elektronun enerjisi\n",
    "print \"E_1 ={:8.3f} eV\".format( E1 )\n",
    "print \"E_2 ={:8.3f} eV\".format( E2 )\n",
    "\n",
    "# n=2 'den n=1 'e geçen e- tarafından yayınlanan fotonun enerjisi\n",
    "print \"E_2 - E_1 ={:8.3f} eV\".format( DE )\n",
    "\n",
    "# yayınlanan fotonun frekansı\n",
    "print \"f ={:10.3e} rad/s\".format( fbar )\n",
    "print \"f ={:10.3e} Hz\".format( f )\n",
    "\n",
    "print \"lamda ={:10.3e} m = {:8.3f} Angstrom\".format( lamda, lamda*1e10 )"
   ]
  },
  {
   "cell_type": "code",
   "execution_count": null,
   "metadata": {},
   "outputs": [],
   "source": []
  }
 ],
 "metadata": {
  "hide_input": false,
  "kernelspec": {
   "display_name": "Python 2",
   "language": "python",
   "name": "python2"
  },
  "language_info": {
   "codemirror_mode": {
    "name": "ipython",
    "version": 2
   },
   "file_extension": ".py",
   "mimetype": "text/x-python",
   "name": "python",
   "nbconvert_exporter": "python",
   "pygments_lexer": "ipython2",
   "version": "2.7.6"
  },
  "toc": {
   "collapse_to_match_collapsible_headings": false,
   "colors": {
    "hover_highlight": "#DAA520",
    "running_highlight": "#FF0000",
    "selected_highlight": "#FFD700"
   },
   "moveMenuLeft": true,
   "nav_menu": {
    "height": "47px",
    "width": "252px"
   },
   "navigate_menu": true,
   "number_sections": true,
   "sideBar": true,
   "threshold": "5",
   "title_cell": "İçindekiler",
   "toc_cell": false,
   "toc_section_display": "block",
   "toc_window_display": false
  },
  "varInspector": {
   "cols": {
    "lenName": 16,
    "lenType": 16,
    "lenVar": 40
   },
   "kernels_config": {
    "python": {
     "delete_cmd_postfix": "",
     "delete_cmd_prefix": "del ",
     "library": "var_list.py",
     "varRefreshCmd": "print(var_dic_list())"
    },
    "r": {
     "delete_cmd_postfix": ") ",
     "delete_cmd_prefix": "rm(",
     "library": "var_list.r",
     "varRefreshCmd": "cat(var_dic_list()) "
    }
   },
   "types_to_exclude": [
    "module",
    "function",
    "builtin_function_or_method",
    "instance",
    "_Feature"
   ],
   "window_display": false
  }
 },
 "nbformat": 4,
 "nbformat_minor": 2
}
