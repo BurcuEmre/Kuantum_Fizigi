{
 "cells": [
  {
   "cell_type": "code",
   "execution_count": 5,
   "metadata": {},
   "outputs": [],
   "source": [
    "import sympy as s\n",
    "s.init_printing()"
   ]
  },
  {
   "cell_type": "code",
   "execution_count": 13,
   "metadata": {},
   "outputs": [],
   "source": [
    "beta, nu, T = s.symbols('beta, nu, T')"
   ]
  },
  {
   "cell_type": "code",
   "execution_count": 14,
   "metadata": {},
   "outputs": [
    {
     "data": {
      "image/png": "[encoded data removed]",
      "text/latex": [
       "$$\\frac{3 \\nu^{2}}{e^{\\frac{\\beta \\nu}{T}} - 1} - \\frac{\\beta \\nu^{3} e^{\\frac{\\beta \\nu}{T}}}{T \\left(e^{\\frac{\\beta \\nu}{T}} - 1\\right)^{2}}$$"
      ],
      "text/plain": [
       "                   β⋅ν  \n",
       "                   ───  \n",
       "     2          3   T   \n",
       "  3⋅ν        β⋅ν ⋅ℯ     \n",
       "──────── - ─────────────\n",
       " β⋅ν                   2\n",
       " ───         ⎛ β⋅ν    ⎞ \n",
       "  T          ⎜ ───    ⎟ \n",
       "ℯ    - 1     ⎜  T     ⎟ \n",
       "           T⋅⎝ℯ    - 1⎠ "
      ]
     },
     "execution_count": 14,
     "metadata": {},
     "output_type": "execute_result"
    }
   ],
   "source": [
    "s.diff(nu**3/(s.exp(beta*nu/T)-1), nu)"
   ]
  },
  {
   "cell_type": "code",
   "execution_count": 24,
   "metadata": {},
   "outputs": [],
   "source": [
    "nu, lambda_, h, c, k_B, T = s.symbols('nu, lambda_, h, c, k_B, T', real=True, positive=True)"
   ]
  },
  {
   "cell_type": "code",
   "execution_count": 25,
   "metadata": {},
   "outputs": [],
   "source": [
    "u_wien = 8*s.pi*h*nu**3/c**3 * s.exp(-h*nu/(k_B*T))\n",
    "w_wien = (nu**2*u_wien/c).subs({nu:c/lambda_})"
   ]
  },
  {
   "cell_type": "code",
   "execution_count": 26,
   "metadata": {},
   "outputs": [
    {
     "data": {
      "image/png": "[encoded data removed]",
      "text/latex": [
       "$$\\frac{8 \\pi h \\nu^{2} \\left(3 T k_{B} - h \\nu\\right) e^{- \\frac{h \\nu}{T k_{B}}}}{T c^{3} k_{B}}$$"
      ],
      "text/plain": [
       "                          -h⋅ν \n",
       "                          ─────\n",
       "       2                  T⋅k_B\n",
       "8⋅π⋅h⋅ν ⋅(3⋅T⋅k_B - h⋅ν)⋅ℯ     \n",
       "───────────────────────────────\n",
       "               3               \n",
       "            T⋅c ⋅k_B           "
      ]
     },
     "execution_count": 26,
     "metadata": {},
     "output_type": "execute_result"
    }
   ],
   "source": [
    "du_wien = s.simplify(s.diff(u_wien, nu))\n",
    "du_wien"
   ]
  },
  {
   "cell_type": "code",
   "execution_count": 55,
   "metadata": {},
   "outputs": [
    {
     "data": {
      "image/png": "[encoded data removed]",
      "text/latex": [
       "$$\\frac{3 T k_{B}}{h}$$"
      ],
      "text/plain": [
       "3⋅T⋅k_B\n",
       "───────\n",
       "   h   "
      ]
     },
     "execution_count": 55,
     "metadata": {},
     "output_type": "execute_result"
    }
   ],
   "source": [
    "sol_u_wien = s.solve(du_wien, nu)[0]\n",
    "sol_u_wien"
   ]
  },
  {
   "cell_type": "code",
   "execution_count": 56,
   "metadata": {},
   "outputs": [
    {
     "data": {
      "image/png": "[encoded data removed]",
      "text/latex": [
       "$$\\frac{3 k_{B}}{h}$$"
      ],
      "text/plain": [
       "3⋅k_B\n",
       "─────\n",
       "  h  "
      ]
     },
     "execution_count": 56,
     "metadata": {},
     "output_type": "execute_result"
    }
   ],
   "source": [
    "sol_b_nu = sol_u_wien / T\n",
    "sol_b_nu"
   ]
  },
  {
   "cell_type": "code",
   "execution_count": 32,
   "metadata": {},
   "outputs": [
    {
     "data": {
      "image/png": "[encoded data removed]",
      "text/latex": [
       "$$\\frac{8 \\pi c h \\left(- 5 T k_{B} \\lambda_{} + c h\\right) e^{- \\frac{c h}{T k_{B} \\lambda_{}}}}{T k_{B} \\lambda_{}^{7}}$$"
      ],
      "text/plain": [
       "                             -c⋅h  \n",
       "                            ───────\n",
       "                            T⋅k_B⋅λ\n",
       "8⋅π⋅c⋅h⋅(-5⋅T⋅k_B⋅λ + c⋅h)⋅ℯ       \n",
       "───────────────────────────────────\n",
       "                     7             \n",
       "              T⋅k_B⋅λ              "
      ]
     },
     "execution_count": 32,
     "metadata": {},
     "output_type": "execute_result"
    }
   ],
   "source": [
    "dw_wien = s.simplify(s.diff(w_wien, lambda_))\n",
    "dw_wien"
   ]
  },
  {
   "cell_type": "code",
   "execution_count": 37,
   "metadata": {},
   "outputs": [
    {
     "data": {
      "image/png": "[encoded data removed]",
      "text/latex": [
       "$$\\frac{c h}{5 T k_{B}}$$"
      ],
      "text/plain": [
       "  c⋅h  \n",
       "───────\n",
       "5⋅T⋅k_B"
      ]
     },
     "execution_count": 37,
     "metadata": {},
     "output_type": "execute_result"
    }
   ],
   "source": [
    "sol_w_wien = s.solve(dw_wien, lambda_)[0]\n",
    "sol_w_wien"
   ]
  },
  {
   "cell_type": "code",
   "execution_count": 38,
   "metadata": {},
   "outputs": [
    {
     "data": {
      "image/png": "[encoded data removed]",
      "text/latex": [
       "$$\\frac{c h}{5 k_{B}}$$"
      ],
      "text/plain": [
       " c⋅h \n",
       "─────\n",
       "5⋅k_B"
      ]
     },
     "execution_count": 38,
     "metadata": {},
     "output_type": "execute_result"
    }
   ],
   "source": [
    "sol_b = sol_w_wien * T\n",
    "sol_b"
   ]
  },
  {
   "cell_type": "code",
   "execution_count": 39,
   "metadata": {},
   "outputs": [],
   "source": [
    "#b = 2.8977729e-3     # m K   Wien yasası sabiti\n",
    "h = 6.626070040e-34  # J.s   Planck sabiti\n",
    "c = 2.99792458e8     # m/s   Işık hızı\n",
    "kB = 1.38064852e-23  # J/K   Boltzman sabiti"
   ]
  },
  {
   "cell_type": "code",
   "execution_count": 54,
   "metadata": {},
   "outputs": [
    {
     "data": {
      "text/plain": [
       "'b = 2.8776e-03 m K'"
      ]
     },
     "execution_count": 54,
     "metadata": {},
     "output_type": "execute_result"
    }
   ],
   "source": [
    "\"b = {:.4e} m K\".format(h*c/(5*kB))"
   ]
  },
  {
   "cell_type": "code",
   "execution_count": 58,
   "metadata": {},
   "outputs": [
    {
     "data": {
      "text/plain": [
       "'b_nu = 6.2510e+10 K/s '"
      ]
     },
     "execution_count": 58,
     "metadata": {},
     "output_type": "execute_result"
    }
   ],
   "source": [
    "\"b_nu = {:.4e} K/s \".format(3*kB/h)"
   ]
  },
  {
   "cell_type": "code",
   "execution_count": null,
   "metadata": {},
   "outputs": [],
   "source": []
  }
 ],
 "metadata": {
  "kernelspec": {
   "display_name": "Python 3",
   "language": "python",
   "name": "python3"
  },
  "language_info": {
   "codemirror_mode": {
    "name": "ipython",
    "version": 3
   },
   "file_extension": ".py",
   "mimetype": "text/x-python",
   "name": "python",
   "nbconvert_exporter": "python",
   "pygments_lexer": "ipython3",
   "version": "3.6.8"
  }
 },
 "nbformat": 4,
 "nbformat_minor": 2
}
