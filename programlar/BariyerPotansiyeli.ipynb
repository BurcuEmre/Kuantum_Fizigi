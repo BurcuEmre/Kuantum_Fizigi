{
 "cells": [
  {
   "cell_type": "markdown",
   "metadata": {},
   "source": [
    "# Bir boyutlu potansiyeller\n",
    "\n",
    "## Sonlu kuyu potansiyelinin incelenmesi"
   ]
  },
  {
   "cell_type": "code",
   "execution_count": 1,
   "metadata": {
    "ExecuteTime": {
     "end_time": "2019-11-01T14:18:00.894110Z",
     "start_time": "2019-11-01T14:18:00.296853Z"
    }
   },
   "outputs": [],
   "source": [
    "%matplotlib inline\n",
    "import matplotlib.pyplot as plt\n",
    "import numpy as np\n",
    "from sympy import *\n",
    "from IPython.display import Math\n",
    "init_printing()"
   ]
  },
  {
   "cell_type": "code",
   "execution_count": 2,
   "metadata": {
    "ExecuteTime": {
     "end_time": "2019-11-01T14:18:00.908114Z",
     "start_time": "2019-11-01T14:18:00.897866Z"
    }
   },
   "outputs": [],
   "source": [
    "x = symbols('x', real=True)\n",
    "hbar, m = symbols('hbar, m', real=True, positive=True)\n",
    "En, V_0, k, q = symbols('En, V_0, k, q', real=True, positive=True)\n",
    "a = symbols('a', real=True, positive=True)\n",
    "A, B, R, T = symbols('A, B, A_R, A_T')\n",
    "\n",
    "u = Function('u')\n",
    "V = Function('V')\n",
    "\n",
    "mprint = lambda X: display(Math(X))\n",
    "lprint = lambda X, F: display(Math(X + latex(F)))\n",
    "rprint = lambda F, X: display(Math(latex(F) + X))\n",
    "eprint = lambda F1, X, F2: display(Math(latex(F1) + X + latex(F2) ))\n",
    "pprint = lambda F, X: display(Math(X.join([latex(f) for f in F])))"
   ]
  },
  {
   "cell_type": "code",
   "execution_count": 3,
   "metadata": {
    "ExecuteTime": {
     "end_time": "2019-11-01T14:18:01.210951Z",
     "start_time": "2019-11-01T14:18:00.911604Z"
    }
   },
   "outputs": [
    {
     "data": {
      "text/latex": [
       "$$k^{2} u{\\left (x \\right )} + \\frac{d^{2}}{d x^{2}} u{\\left (x \\right )}= 0$$"
      ],
      "text/plain": [
       "<IPython.core.display.Math object>"
      ]
     },
     "metadata": {},
     "output_type": "display_data"
    },
    {
     "data": {
      "image/png": "[encoded data removed]",
      "text/latex": [
       "$$u{\\left (x \\right )} = C_{1} \\sin{\\left (k x \\right )} + C_{2} \\cos{\\left (k x \\right )}$$"
      ],
      "text/plain": [
       "u(x) = C₁⋅sin(k⋅x) + C₂⋅cos(k⋅x)"
      ]
     },
     "metadata": {},
     "output_type": "display_data"
    }
   ],
   "source": [
    "eq = diff(u(x), x, x) + k**2 * u(x)\n",
    "sol = dsolve(eq)\n",
    "\n",
    "rprint(eq, \"= 0\")\n",
    "display(sol)"
   ]
  },
  {
   "cell_type": "code",
   "execution_count": 4,
   "metadata": {
    "ExecuteTime": {
     "end_time": "2019-11-01T14:18:01.287814Z",
     "start_time": "2019-11-01T14:18:01.214603Z"
    }
   },
   "outputs": [
    {
     "data": {
      "text/latex": [
       "$$j(x) = \\frac{i \\hbar \\left(u{\\left (x \\right )} \\overline{\\frac{d}{d x} u{\\left (x \\right )}} - \\overline{u{\\left (x \\right )}} \\frac{d}{d x} u{\\left (x \\right )}\\right)}{2 m}$$"
      ],
      "text/plain": [
       "<IPython.core.display.Math object>"
      ]
     },
     "metadata": {},
     "output_type": "display_data"
    }
   ],
   "source": [
    "u = Function('u')\n",
    "\n",
    "j = lambda x: hbar/(2*I*m)*(conjugate(u(x)) * diff(u(x),x) - conjugate(diff(u(x),x))*u(x))\n",
    "lprint(\"j(x) = \", simplify(j(x)))"
   ]
  },
  {
   "cell_type": "code",
   "execution_count": 5,
   "metadata": {
    "ExecuteTime": {
     "end_time": "2019-11-01T14:18:01.305130Z",
     "start_time": "2019-11-01T14:18:01.291256Z"
    }
   },
   "outputs": [
    {
     "data": {
      "text/latex": [
       "$$x<-a$$"
      ],
      "text/plain": [
       "<IPython.core.display.Math object>"
      ]
     },
     "metadata": {},
     "output_type": "display_data"
    },
    {
     "data": {
      "text/latex": [
       "$$u(x) = A_{R} e^{- i k x} + e^{i k x}$$"
      ],
      "text/plain": [
       "<IPython.core.display.Math object>"
      ]
     },
     "metadata": {},
     "output_type": "display_data"
    }
   ],
   "source": [
    "u1 = lambda x: exp(I*k*x) + R*exp(-I*k*x)\n",
    "mprint(\"x<-a\")\n",
    "lprint(\"u(x) = \", u1(x))"
   ]
  },
  {
   "cell_type": "code",
   "execution_count": 6,
   "metadata": {
    "ExecuteTime": {
     "end_time": "2019-11-01T14:18:01.398006Z",
     "start_time": "2019-11-01T14:18:01.308589Z"
    }
   },
   "outputs": [
    {
     "data": {
      "text/latex": [
       "$$j(x) = \\frac{\\hbar k \\left(- A_{R} \\overline{A_{R}} + 1\\right)}{m}$$"
      ],
      "text/plain": [
       "<IPython.core.display.Math object>"
      ]
     },
     "metadata": {},
     "output_type": "display_data"
    }
   ],
   "source": [
    "u = u1\n",
    "j1 = simplify(expand(j(x)))\n",
    "lprint(\"j(x) = \", j1)"
   ]
  },
  {
   "cell_type": "code",
   "execution_count": 7,
   "metadata": {
    "ExecuteTime": {
     "end_time": "2019-11-01T14:18:01.415674Z",
     "start_time": "2019-11-01T14:18:01.401381Z"
    }
   },
   "outputs": [
    {
     "data": {
      "text/latex": [
       "$$-a<x<a$$"
      ],
      "text/plain": [
       "<IPython.core.display.Math object>"
      ]
     },
     "metadata": {},
     "output_type": "display_data"
    },
    {
     "data": {
      "text/latex": [
       "$$u(x) = A e^{- q x} + B e^{q x}$$"
      ],
      "text/plain": [
       "<IPython.core.display.Math object>"
      ]
     },
     "metadata": {},
     "output_type": "display_data"
    }
   ],
   "source": [
    "u2 = lambda x: A*exp(-q*x) + B*exp(q*x)\n",
    "mprint(\"-a<x<a\")\n",
    "lprint(\"u(x) = \", u2(x))"
   ]
  },
  {
   "cell_type": "code",
   "execution_count": 8,
   "metadata": {
    "ExecuteTime": {
     "end_time": "2019-11-01T14:18:01.527144Z",
     "start_time": "2019-11-01T14:18:01.419170Z"
    }
   },
   "outputs": [
    {
     "data": {
      "text/latex": [
       "$$j(x) = \\frac{\\hbar q \\left|{A \\overline{B} - B \\overline{A}}\\right|}{m}$$"
      ],
      "text/plain": [
       "<IPython.core.display.Math object>"
      ]
     },
     "metadata": {},
     "output_type": "display_data"
    }
   ],
   "source": [
    "u = u2\n",
    "j2 = Abs(simplify(expand(j(x))))\n",
    "lprint(\"j(x) = \", j2)"
   ]
  },
  {
   "cell_type": "code",
   "execution_count": 9,
   "metadata": {
    "ExecuteTime": {
     "end_time": "2019-11-01T14:18:01.538988Z",
     "start_time": "2019-11-01T14:18:01.529483Z"
    }
   },
   "outputs": [
    {
     "data": {
      "text/latex": [
       "$$x>a$$"
      ],
      "text/plain": [
       "<IPython.core.display.Math object>"
      ]
     },
     "metadata": {},
     "output_type": "display_data"
    },
    {
     "data": {
      "text/latex": [
       "$$u(x) = A_{T} e^{i k x}$$"
      ],
      "text/plain": [
       "<IPython.core.display.Math object>"
      ]
     },
     "metadata": {},
     "output_type": "display_data"
    }
   ],
   "source": [
    "u3 = lambda x: T*exp(I*k*x)\n",
    "mprint(\"x>a\")\n",
    "display(Math(\"u(x) = \"+ latex(u3(x))))"
   ]
  },
  {
   "cell_type": "code",
   "execution_count": 10,
   "metadata": {
    "ExecuteTime": {
     "end_time": "2019-11-01T14:18:01.605163Z",
     "start_time": "2019-11-01T14:18:01.542283Z"
    }
   },
   "outputs": [
    {
     "data": {
      "text/latex": [
       "$$j(x) = \\frac{\\hbar k \\left|{A_{T}^{2}}\\right|}{m}$$"
      ],
      "text/plain": [
       "<IPython.core.display.Math object>"
      ]
     },
     "metadata": {},
     "output_type": "display_data"
    }
   ],
   "source": [
    "u = u3\n",
    "j3 = Abs(expand(j(x)))\n",
    "lprint(\"j(x) = \", j3)"
   ]
  },
  {
   "cell_type": "markdown",
   "metadata": {},
   "source": [
    "### Korunum ilkesinden"
   ]
  },
  {
   "cell_type": "code",
   "execution_count": 11,
   "metadata": {
    "ExecuteTime": {
     "end_time": "2019-11-01T14:18:01.657998Z",
     "start_time": "2019-11-01T14:18:01.610048Z"
    }
   },
   "outputs": [
    {
     "data": {
      "text/latex": [
       "$$j_1=j_2=j_3$$"
      ],
      "text/plain": [
       "<IPython.core.display.Math object>"
      ]
     },
     "metadata": {},
     "output_type": "display_data"
    },
    {
     "data": {
      "text/latex": [
       "$$\\frac{\\hbar k \\left(- A_{R} \\overline{A_{R}} + 1\\right)}{m}=\\frac{\\hbar q \\left|{A \\overline{B} - B \\overline{A}}\\right|}{m}=\\frac{\\hbar k \\left|{A_{T}^{2}}\\right|}{m}$$"
      ],
      "text/plain": [
       "<IPython.core.display.Math object>"
      ]
     },
     "metadata": {},
     "output_type": "display_data"
    }
   ],
   "source": [
    "pprint([\"j_1\", \"j_2\", \"j_3\"], \"=\")\n",
    "pprint([j1,j2,j3], \"=\")"
   ]
  },
  {
   "cell_type": "markdown",
   "metadata": {},
   "source": [
    "### Dalga fonksiyonunun sürekliliğinden"
   ]
  },
  {
   "cell_type": "code",
   "execution_count": 12,
   "metadata": {
    "ExecuteTime": {
     "end_time": "2019-11-01T14:18:01.737408Z",
     "start_time": "2019-11-01T14:18:01.661563Z"
    }
   },
   "outputs": [
    {
     "data": {
      "text/latex": [
       "$$u_1(-a) = u_2(-a)$$"
      ],
      "text/plain": [
       "<IPython.core.display.Math object>"
      ]
     },
     "metadata": {},
     "output_type": "display_data"
    },
    {
     "data": {
      "text/latex": [
       "$$u_2(a) = u_3(a)$$"
      ],
      "text/plain": [
       "<IPython.core.display.Math object>"
      ]
     },
     "metadata": {},
     "output_type": "display_data"
    },
    {
     "data": {
      "text/latex": [
       "$$A_{R} e^{i a k} + e^{- i a k}=A e^{a q} + B e^{- a q}$$"
      ],
      "text/plain": [
       "<IPython.core.display.Math object>"
      ]
     },
     "metadata": {},
     "output_type": "display_data"
    },
    {
     "data": {
      "text/latex": [
       "$$A e^{- a q} + B e^{a q}=A_{T} e^{i a k}$$"
      ],
      "text/plain": [
       "<IPython.core.display.Math object>"
      ]
     },
     "metadata": {},
     "output_type": "display_data"
    }
   ],
   "source": [
    "mprint(\"u_1(-a) = u_2(-a)\")\n",
    "mprint(\"u_2(a) = u_3(a)\")\n",
    "eprint(u1(-a), \"=\" ,u2(-a))\n",
    "eprint(u2(a), \"=\" ,u3(a))"
   ]
  },
  {
   "cell_type": "markdown",
   "metadata": {},
   "source": [
    "### Türevlerin sürekliliğinden"
   ]
  },
  {
   "cell_type": "code",
   "execution_count": 13,
   "metadata": {
    "ExecuteTime": {
     "end_time": "2019-11-01T14:18:02.098452Z",
     "start_time": "2019-11-01T14:18:01.740748Z"
    }
   },
   "outputs": [
    {
     "data": {
      "text/latex": [
       "$$\\frac{d u_1(x)}{dx}= i k \\left(- A_{R} + e^{2 i k x}\\right) e^{- i k x}$$"
      ],
      "text/plain": [
       "<IPython.core.display.Math object>"
      ]
     },
     "metadata": {},
     "output_type": "display_data"
    },
    {
     "data": {
      "text/latex": [
       "$$\\frac{d u_2(x)}{dx} = q \\left(- A + B e^{2 q x}\\right) e^{- q x}$$"
      ],
      "text/plain": [
       "<IPython.core.display.Math object>"
      ]
     },
     "metadata": {},
     "output_type": "display_data"
    },
    {
     "data": {
      "text/latex": [
       "$$\\frac{d u_3(x)}{dx}= i A_{T} k e^{i k x}$$"
      ],
      "text/plain": [
       "<IPython.core.display.Math object>"
      ]
     },
     "metadata": {},
     "output_type": "display_data"
    },
    {
     "data": {
      "text/latex": [
       "$$\\frac{d u_1(x)}{dx}\\bigg|_{x=-a} = \\frac{d u_2(x)}{dx}\\bigg|_{x=-a}$$"
      ],
      "text/plain": [
       "<IPython.core.display.Math object>"
      ]
     },
     "metadata": {},
     "output_type": "display_data"
    },
    {
     "data": {
      "text/latex": [
       "$$\\frac{d u_2(x)}{dx}\\bigg|_{x=a} = \\frac{d u_3(x)}{dx}\\bigg|_{x=a}$$"
      ],
      "text/plain": [
       "<IPython.core.display.Math object>"
      ]
     },
     "metadata": {},
     "output_type": "display_data"
    },
    {
     "data": {
      "text/latex": [
       "$$i k \\left(- A_{R} e^{2 i a k} + 1\\right) e^{- i a k}=q \\left(- A e^{2 a q} + B\\right) e^{- a q}$$"
      ],
      "text/plain": [
       "<IPython.core.display.Math object>"
      ]
     },
     "metadata": {},
     "output_type": "display_data"
    },
    {
     "data": {
      "text/latex": [
       "$$q \\left(- A + B e^{2 a q}\\right) e^{- a q}=i A_{T} k e^{i a k}$$"
      ],
      "text/plain": [
       "<IPython.core.display.Math object>"
      ]
     },
     "metadata": {},
     "output_type": "display_data"
    }
   ],
   "source": [
    "du1 = lambda x0: simplify(diff(u1(x), x).subs(x, x0))\n",
    "du2 = lambda x0: simplify(diff(u2(x), x).subs(x, x0))\n",
    "du3 = lambda x0: simplify(diff(u3(x), x).subs(x, x0))\n",
    "\n",
    "lprint(\"\\\\frac{d u_1(x)}{dx}= \", du1(x))\n",
    "lprint(\"\\\\frac{d u_2(x)}{dx} = \", du2(x))\n",
    "lprint(\"\\\\frac{d u_3(x)}{dx}= \", du3(x))\n",
    "\n",
    "mprint(\"\\\\frac{d u_1(x)}{dx}\\\\bigg|_{x=-a} = \\\\frac{d u_2(x)}{dx}\\\\bigg|_{x=-a}\")\n",
    "mprint(\"\\\\frac{d u_2(x)}{dx}\\\\bigg|_{x=a} = \\\\frac{d u_3(x)}{dx}\\\\bigg|_{x=a}\")\n",
    "eprint(du1(-a),\"=\",du2(-a))\n",
    "eprint(du2(a),\"=\",du3(a))"
   ]
  },
  {
   "cell_type": "markdown",
   "metadata": {},
   "source": [
    "### Süreklilik şartlarından elde edilen eşitlikler"
   ]
  },
  {
   "cell_type": "code",
   "execution_count": 14,
   "metadata": {
    "ExecuteTime": {
     "end_time": "2019-11-01T14:18:02.235778Z",
     "start_time": "2019-11-01T14:18:02.100800Z"
    }
   },
   "outputs": [
    {
     "data": {
      "text/latex": [
       "$$A_{R} e^{i a k} + e^{- i a k}=A e^{a q} + B e^{- a q}$$"
      ],
      "text/plain": [
       "<IPython.core.display.Math object>"
      ]
     },
     "metadata": {},
     "output_type": "display_data"
    },
    {
     "data": {
      "text/latex": [
       "$$A e^{- a q} + B e^{a q}=A_{T} e^{i a k}$$"
      ],
      "text/plain": [
       "<IPython.core.display.Math object>"
      ]
     },
     "metadata": {},
     "output_type": "display_data"
    },
    {
     "data": {
      "text/latex": [
       "$$i k \\left(- A_{R} e^{2 i a k} + 1\\right) e^{- i a k}=q \\left(- A e^{2 a q} + B\\right) e^{- a q}$$"
      ],
      "text/plain": [
       "<IPython.core.display.Math object>"
      ]
     },
     "metadata": {},
     "output_type": "display_data"
    },
    {
     "data": {
      "text/latex": [
       "$$q \\left(- A + B e^{2 a q}\\right) e^{- a q}=i A_{T} k e^{i a k}$$"
      ],
      "text/plain": [
       "<IPython.core.display.Math object>"
      ]
     },
     "metadata": {},
     "output_type": "display_data"
    }
   ],
   "source": [
    "eprint(u1(-a), \"=\" ,u2(-a))\n",
    "eprint(u2(a), \"=\" ,u3(a))\n",
    "eprint(du1(-a),\"=\",du2(-a))\n",
    "eprint(du2(a),\"=\",du3(a))"
   ]
  },
  {
   "cell_type": "markdown",
   "metadata": {},
   "source": [
    "### Süreklilik şartlarının oranlarıda birbirine eşit olmalıdır"
   ]
  },
  {
   "cell_type": "code",
   "execution_count": 15,
   "metadata": {
    "ExecuteTime": {
     "end_time": "2019-11-01T14:18:02.390299Z",
     "start_time": "2019-11-01T14:18:02.239386Z"
    }
   },
   "outputs": [
    {
     "data": {
      "text/latex": [
       "$$x = -a$$"
      ],
      "text/plain": [
       "<IPython.core.display.Math object>"
      ]
     },
     "metadata": {},
     "output_type": "display_data"
    },
    {
     "data": {
      "text/latex": [
       "$$\\frac{1}{u_1(x)}\\frac{d u_1(x)}{dx}\\bigg|_{x=-a} = \\frac{1}{u_2(x)}\\frac{d u_2(x)}{dx}\\bigg|_{x=-a}$$"
      ],
      "text/plain": [
       "<IPython.core.display.Math object>"
      ]
     },
     "metadata": {},
     "output_type": "display_data"
    },
    {
     "data": {
      "text/latex": [
       "$$\\frac{i k \\left(- A_{R} e^{2 i a k} + 1\\right) e^{- i a k}}{A_{R} e^{i a k} + e^{- i a k}}=\\frac{q \\left(- A e^{2 a q} + B\\right) e^{- a q}}{A e^{a q} + B e^{- a q}}$$"
      ],
      "text/plain": [
       "<IPython.core.display.Math object>"
      ]
     },
     "metadata": {},
     "output_type": "display_data"
    },
    {
     "data": {
      "text/latex": [
       "$$x = a$$"
      ],
      "text/plain": [
       "<IPython.core.display.Math object>"
      ]
     },
     "metadata": {},
     "output_type": "display_data"
    },
    {
     "data": {
      "text/latex": [
       "$$\\frac{1}{u_2(x)}\\frac{d u_2(x)}{dx}\\bigg|_{x=a} = \\frac{1}{u_3(x)}\\frac{d u_3(x)}{dx}\\bigg|_{x=a}$$"
      ],
      "text/plain": [
       "<IPython.core.display.Math object>"
      ]
     },
     "metadata": {},
     "output_type": "display_data"
    },
    {
     "data": {
      "text/latex": [
       "$$\\frac{q \\left(- A + B e^{2 a q}\\right) e^{- a q}}{A e^{- a q} + B e^{a q}}=i k$$"
      ],
      "text/plain": [
       "<IPython.core.display.Math object>"
      ]
     },
     "metadata": {},
     "output_type": "display_data"
    }
   ],
   "source": [
    "u1ma = du1(-a)/u1(-a)\n",
    "u2ma = du2(-a)/u2(-a)\n",
    "u2pa = du2(a)/u2(a)\n",
    "u3pa = du3(a)/u3(a)\n",
    "\n",
    "mprint(\"x = -a\")\n",
    "mprint(\"\\\\frac{1}{u_1(x)}\\\\frac{d u_1(x)}{dx}\\\\bigg|_{x=-a} = \\\\frac{1}{u_2(x)}\\\\frac{d u_2(x)}{dx}\\\\bigg|_{x=-a}\")\n",
    "eprint(u1ma,\"=\" , u2ma)\n",
    "\n",
    "mprint(\"x = a\")\n",
    "mprint(\"\\\\frac{1}{u_2(x)}\\\\frac{d u_2(x)}{dx}\\\\bigg|_{x=a} = \\\\frac{1}{u_3(x)}\\\\frac{d u_3(x)}{dx}\\\\bigg|_{x=a}\")\n",
    "eprint(u2pa,\"=\" , u3pa)"
   ]
  },
  {
   "cell_type": "markdown",
   "metadata": {},
   "source": [
    "### A ve B yok edilip önce $A_R$ bulunabilir"
   ]
  },
  {
   "cell_type": "code",
   "execution_count": 16,
   "metadata": {
    "ExecuteTime": {
     "end_time": "2019-11-01T14:18:02.794972Z",
     "start_time": "2019-11-01T14:18:02.393794Z"
    }
   },
   "outputs": [
    {
     "data": {
      "text/latex": [
       "$$A/B = \\frac{\\left(i A_{R} k e^{2 i a k} + A_{R} q e^{2 i a k} - i k + q\\right) e^{- 2 a q}}{- i A_{R} k e^{2 i a k} + A_{R} q e^{2 i a k} + i k + q}$$"
      ],
      "text/plain": [
       "<IPython.core.display.Math object>"
      ]
     },
     "metadata": {},
     "output_type": "display_data"
    },
    {
     "data": {
      "text/latex": [
       "$$A/B = \\frac{\\left(- i k + q\\right) e^{2 a q}}{i k + q}$$"
      ],
      "text/plain": [
       "<IPython.core.display.Math object>"
      ]
     },
     "metadata": {},
     "output_type": "display_data"
    },
    {
     "data": {
      "text/latex": [
       "$$A/B - A/B = - \\frac{\\left(- i k + q\\right) e^{2 a q}}{i k + q} + \\frac{\\left(i A_{R} k e^{2 i a k} + A_{R} q e^{2 i a k} - i k + q\\right) e^{- 2 a q}}{- i A_{R} k e^{2 i a k} + A_{R} q e^{2 i a k} + i k + q} = 0$$"
      ],
      "text/plain": [
       "<IPython.core.display.Math object>"
      ]
     },
     "metadata": {},
     "output_type": "display_data"
    }
   ],
   "source": [
    "solA1 = solve(u1ma-u2ma, A)[0]/B\n",
    "solA2 = solve(u2pa-u3pa, A)[0]/B\n",
    "\n",
    "lprint(\"A/B = \", solA1)\n",
    "lprint(\"A/B = \", solA2)\n",
    "mprint(\"A/B - A/B = %s = 0\"%latex(solA1-solA2))"
   ]
  },
  {
   "cell_type": "code",
   "execution_count": 17,
   "metadata": {
    "ExecuteTime": {
     "end_time": "2019-11-01T14:18:03.098850Z",
     "start_time": "2019-11-01T14:18:02.798366Z"
    }
   },
   "outputs": [
    {
     "data": {
      "text/latex": [
       "$$A_R=- \\frac{\\left(k^{2} + q^{2}\\right) \\left(e^{4 a q} - 1\\right) e^{- 2 i a k}}{- k^{2} e^{4 a q} + k^{2} - 2 i k q e^{4 a q} - 2 i k q + q^{2} e^{4 a q} - q^{2}}$$"
      ],
      "text/plain": [
       "<IPython.core.display.Math object>"
      ]
     },
     "metadata": {},
     "output_type": "display_data"
    }
   ],
   "source": [
    "solR = solve(solA1-solA2, R)[0]\n",
    "solRn = sqf(numer(solR), k)\n",
    "solRd = factor(denom(solR))\n",
    "solR = solRn/solRd\n",
    "lprint(\"A_R=\", solR)"
   ]
  },
  {
   "cell_type": "markdown",
   "metadata": {},
   "source": [
    "### A ve B katsayıları $A_R$ ve aşağıdaki eşitlikler ile hesaplanabilir"
   ]
  },
  {
   "cell_type": "code",
   "execution_count": 18,
   "metadata": {
    "ExecuteTime": {
     "end_time": "2019-11-01T14:18:03.727353Z",
     "start_time": "2019-11-01T14:18:03.102259Z"
    }
   },
   "outputs": [
    {
     "data": {
      "text/latex": [
       "$$A_{R} e^{i a k} + e^{- i a k}=A e^{a q} + B e^{- a q}$$"
      ],
      "text/plain": [
       "<IPython.core.display.Math object>"
      ]
     },
     "metadata": {},
     "output_type": "display_data"
    },
    {
     "data": {
      "text/latex": [
       "$$A/B = \\frac{\\left(- i k + q\\right) e^{2 a q}}{i k + q}$$"
      ],
      "text/plain": [
       "<IPython.core.display.Math object>"
      ]
     },
     "metadata": {},
     "output_type": "display_data"
    },
    {
     "data": {
      "text/latex": [
       "$$B = \\frac{A \\left(i k + q\\right) e^{- 2 a q}}{- i k + q}$$"
      ],
      "text/plain": [
       "<IPython.core.display.Math object>"
      ]
     },
     "metadata": {},
     "output_type": "display_data"
    },
    {
     "data": {
      "text/latex": [
       "$$A = \\frac{2 k \\left(- i k^{2} e^{4 a q} + i k^{2} + 2 k q e^{4 a q} + i q^{2} e^{4 a q} + i q^{2}\\right) e^{- a \\left(i k - 3 q\\right)}}{- i k^{3} e^{8 a q} + 2 i k^{3} e^{4 a q} - i k^{3} + 3 k^{2} q e^{8 a q} - 3 k^{2} q + 3 i k q^{2} e^{8 a q} + 2 i k q^{2} e^{4 a q} + 3 i k q^{2} - q^{3} e^{8 a q} + q^{3}}$$"
      ],
      "text/plain": [
       "<IPython.core.display.Math object>"
      ]
     },
     "metadata": {},
     "output_type": "display_data"
    },
    {
     "data": {
      "text/latex": [
       "$$B = \\frac{2 k \\left(i k + q\\right) \\left(- i k^{2} e^{4 a q} + i k^{2} + 2 k q e^{4 a q} + i q^{2} e^{4 a q} + i q^{2}\\right) e^{- 2 a q} e^{- a \\left(i k - 3 q\\right)}}{\\left(- i k + q\\right) \\left(- i k^{3} e^{8 a q} + 2 i k^{3} e^{4 a q} - i k^{3} + 3 k^{2} q e^{8 a q} - 3 k^{2} q + 3 i k q^{2} e^{8 a q} + 2 i k q^{2} e^{4 a q} + 3 i k q^{2} - q^{3} e^{8 a q} + q^{3}\\right)}$$"
      ],
      "text/plain": [
       "<IPython.core.display.Math object>"
      ]
     },
     "metadata": {},
     "output_type": "display_data"
    }
   ],
   "source": [
    "eprint(u1(-a), \"=\" ,u2(-a))\n",
    "lprint(\"A/B = \", solA2)\n",
    "\n",
    "solB_raw = A/solA2\n",
    "lprint(\"B = \", solB_raw)\n",
    "\n",
    "solA = solve((u1(-a) - u2(-a)).subs({B: solB_raw, R:solR}), A)[0]\n",
    "solB = solB_raw.subs({A:solA})\n",
    "lprint(\"A = \", solA)\n",
    "lprint(\"B = \", solB)"
   ]
  },
  {
   "cell_type": "markdown",
   "metadata": {},
   "source": [
    "### $A_T$'de aşağıdaki eşitlikten bulunabilir"
   ]
  },
  {
   "cell_type": "code",
   "execution_count": 19,
   "metadata": {
    "ExecuteTime": {
     "end_time": "2019-11-01T14:18:06.976684Z",
     "start_time": "2019-11-01T14:18:03.730850Z"
    }
   },
   "outputs": [
    {
     "data": {
      "text/latex": [
       "$$A e^{- a q} + B e^{a q}=A_{T} e^{i a k}$$"
      ],
      "text/plain": [
       "<IPython.core.display.Math object>"
      ]
     },
     "metadata": {},
     "output_type": "display_data"
    },
    {
     "data": {
      "text/latex": [
       "$$A_T = \\frac{4 k q \\left(- k^{5} e^{a \\left(- i k + 4 q\\right)} + 3 k^{5} e^{a \\left(- i k + 8 q\\right)} - 3 k^{5} e^{a \\left(- i k + 12 q\\right)} + k^{5} e^{a \\left(- i k + 16 q\\right)} + 3 i k^{4} q e^{a \\left(- i k + 4 q\\right)} - i k^{4} q e^{a \\left(- i k + 8 q\\right)} - 7 i k^{4} q e^{a \\left(- i k + 12 q\\right)} + 5 i k^{4} q e^{a \\left(- i k + 16 q\\right)} + 2 k^{3} q^{2} e^{a \\left(- i k + 4 q\\right)} + 6 k^{3} q^{2} e^{a \\left(- i k + 8 q\\right)} + 2 k^{3} q^{2} e^{a \\left(- i k + 12 q\\right)} - 10 k^{3} q^{2} e^{a \\left(- i k + 16 q\\right)} + 2 i k^{2} q^{3} e^{a \\left(- i k + 4 q\\right)} - 2 i k^{2} q^{3} e^{a \\left(- i k + 8 q\\right)} - 6 i k^{2} q^{3} e^{a \\left(- i k + 12 q\\right)} - 10 i k^{2} q^{3} e^{a \\left(- i k + 16 q\\right)} + 3 k q^{4} e^{a \\left(- i k + 4 q\\right)} + 3 k q^{4} e^{a \\left(- i k + 8 q\\right)} + 5 k q^{4} e^{a \\left(- i k + 12 q\\right)} + 5 k q^{4} e^{a \\left(- i k + 16 q\\right)} - i q^{5} e^{a \\left(- i k + 4 q\\right)} - i q^{5} e^{a \\left(- i k + 8 q\\right)} + i q^{5} e^{a \\left(- i k + 12 q\\right)} + i q^{5} e^{a \\left(- i k + 16 q\\right)}\\right) e^{- a \\left(i k + 2 q\\right)}}{\\left(i k - q\\right) \\left(- i k^{3} e^{8 a q} + 2 i k^{3} e^{4 a q} - i k^{3} + 3 k^{2} q e^{8 a q} - 3 k^{2} q + 3 i k q^{2} e^{8 a q} + 2 i k q^{2} e^{4 a q} + 3 i k q^{2} - q^{3} e^{8 a q} + q^{3}\\right)^{2}}$$"
      ],
      "text/plain": [
       "<IPython.core.display.Math object>"
      ]
     },
     "metadata": {},
     "output_type": "display_data"
    }
   ],
   "source": [
    "eprint(u2(a), \"=\" ,u3(a))\n",
    "\n",
    "solT = solve((u2(a) - u3(a)).subs({A: solA, B:solB}), T)[0]\n",
    "lprint(\"A_T = \", solT)"
   ]
  },
  {
   "cell_type": "markdown",
   "metadata": {
    "ExecuteTime": {
     "end_time": "2018-11-20T11:13:39.521728Z",
     "start_time": "2018-11-20T11:13:39.369914Z"
    }
   },
   "source": [
    "### A, B, R ve T için çözümler aşağıdaki gibi olur"
   ]
  },
  {
   "cell_type": "code",
   "execution_count": 20,
   "metadata": {
    "ExecuteTime": {
     "end_time": "2019-11-01T14:18:07.098166Z",
     "start_time": "2019-11-01T14:18:06.980129Z"
    }
   },
   "outputs": [
    {
     "data": {
      "text/latex": [
       "$$A = \\frac{2 k \\left(- i k^{2} e^{4 a q} + i k^{2} + 2 k q e^{4 a q} + i q^{2} e^{4 a q} + i q^{2}\\right) e^{- a \\left(i k - 3 q\\right)}}{- i k^{3} e^{8 a q} + 2 i k^{3} e^{4 a q} - i k^{3} + 3 k^{2} q e^{8 a q} - 3 k^{2} q + 3 i k q^{2} e^{8 a q} + 2 i k q^{2} e^{4 a q} + 3 i k q^{2} - q^{3} e^{8 a q} + q^{3}}$$"
      ],
      "text/plain": [
       "<IPython.core.display.Math object>"
      ]
     },
     "metadata": {},
     "output_type": "display_data"
    },
    {
     "data": {
      "text/latex": [
       "$$B = \\frac{2 k \\left(i k + q\\right) \\left(- i k^{2} e^{4 a q} + i k^{2} + 2 k q e^{4 a q} + i q^{2} e^{4 a q} + i q^{2}\\right) e^{- 2 a q} e^{- a \\left(i k - 3 q\\right)}}{\\left(- i k + q\\right) \\left(- i k^{3} e^{8 a q} + 2 i k^{3} e^{4 a q} - i k^{3} + 3 k^{2} q e^{8 a q} - 3 k^{2} q + 3 i k q^{2} e^{8 a q} + 2 i k q^{2} e^{4 a q} + 3 i k q^{2} - q^{3} e^{8 a q} + q^{3}\\right)}$$"
      ],
      "text/plain": [
       "<IPython.core.display.Math object>"
      ]
     },
     "metadata": {},
     "output_type": "display_data"
    },
    {
     "data": {
      "text/latex": [
       "$$A_R = - \\frac{\\left(k^{2} + q^{2}\\right) \\left(e^{4 a q} - 1\\right) e^{- 2 i a k}}{- k^{2} e^{4 a q} + k^{2} - 2 i k q e^{4 a q} - 2 i k q + q^{2} e^{4 a q} - q^{2}}$$"
      ],
      "text/plain": [
       "<IPython.core.display.Math object>"
      ]
     },
     "metadata": {},
     "output_type": "display_data"
    },
    {
     "data": {
      "text/latex": [
       "$$A_T = \\frac{4 k q \\left(- k^{5} e^{a \\left(- i k + 4 q\\right)} + 3 k^{5} e^{a \\left(- i k + 8 q\\right)} - 3 k^{5} e^{a \\left(- i k + 12 q\\right)} + k^{5} e^{a \\left(- i k + 16 q\\right)} + 3 i k^{4} q e^{a \\left(- i k + 4 q\\right)} - i k^{4} q e^{a \\left(- i k + 8 q\\right)} - 7 i k^{4} q e^{a \\left(- i k + 12 q\\right)} + 5 i k^{4} q e^{a \\left(- i k + 16 q\\right)} + 2 k^{3} q^{2} e^{a \\left(- i k + 4 q\\right)} + 6 k^{3} q^{2} e^{a \\left(- i k + 8 q\\right)} + 2 k^{3} q^{2} e^{a \\left(- i k + 12 q\\right)} - 10 k^{3} q^{2} e^{a \\left(- i k + 16 q\\right)} + 2 i k^{2} q^{3} e^{a \\left(- i k + 4 q\\right)} - 2 i k^{2} q^{3} e^{a \\left(- i k + 8 q\\right)} - 6 i k^{2} q^{3} e^{a \\left(- i k + 12 q\\right)} - 10 i k^{2} q^{3} e^{a \\left(- i k + 16 q\\right)} + 3 k q^{4} e^{a \\left(- i k + 4 q\\right)} + 3 k q^{4} e^{a \\left(- i k + 8 q\\right)} + 5 k q^{4} e^{a \\left(- i k + 12 q\\right)} + 5 k q^{4} e^{a \\left(- i k + 16 q\\right)} - i q^{5} e^{a \\left(- i k + 4 q\\right)} - i q^{5} e^{a \\left(- i k + 8 q\\right)} + i q^{5} e^{a \\left(- i k + 12 q\\right)} + i q^{5} e^{a \\left(- i k + 16 q\\right)}\\right) e^{- a \\left(i k + 2 q\\right)}}{\\left(i k - q\\right) \\left(- i k^{3} e^{8 a q} + 2 i k^{3} e^{4 a q} - i k^{3} + 3 k^{2} q e^{8 a q} - 3 k^{2} q + 3 i k q^{2} e^{8 a q} + 2 i k q^{2} e^{4 a q} + 3 i k q^{2} - q^{3} e^{8 a q} + q^{3}\\right)^{2}}$$"
      ],
      "text/plain": [
       "<IPython.core.display.Math object>"
      ]
     },
     "metadata": {},
     "output_type": "display_data"
    }
   ],
   "source": [
    "lprint(\"A = \", solA)\n",
    "lprint(\"B = \", solB)\n",
    "lprint(\"A_R = \", solR)\n",
    "lprint(\"A_T = \", solT)"
   ]
  },
  {
   "cell_type": "markdown",
   "metadata": {},
   "source": [
    "### Gelen ($j_I$), yansıyan ($j_R$) ve geçen ( $j_T$) akılar"
   ]
  },
  {
   "cell_type": "code",
   "execution_count": 21,
   "metadata": {
    "ExecuteTime": {
     "end_time": "2019-11-01T14:18:08.654979Z",
     "start_time": "2019-11-01T14:18:07.100433Z"
    }
   },
   "outputs": [
    {
     "data": {
      "text/latex": [
       "$$j_I =\\frac{\\hbar k}{m}$$"
      ],
      "text/plain": [
       "<IPython.core.display.Math object>"
      ]
     },
     "metadata": {},
     "output_type": "display_data"
    },
    {
     "data": {
      "text/latex": [
       "$$j_R =\\frac{\\hbar k \\left(k^{2} + q^{2}\\right)^{2} \\left(e^{4 a q} - 1\\right)^{2}}{m \\left(k^{4} e^{8 a q} - 2 k^{4} e^{4 a q} + k^{4} + 2 k^{2} q^{2} e^{8 a q} + 12 k^{2} q^{2} e^{4 a q} + 2 k^{2} q^{2} + q^{4} e^{8 a q} - 2 q^{4} e^{4 a q} + q^{4}\\right)}$$"
      ],
      "text/plain": [
       "<IPython.core.display.Math object>"
      ]
     },
     "metadata": {},
     "output_type": "display_data"
    },
    {
     "data": {
      "text/latex": [
       "$$j_T =\\frac{16 \\hbar k^{3} q^{2} e^{4 a q}}{m \\left(k^{4} e^{8 a q} - 2 k^{4} e^{4 a q} + k^{4} + 2 k^{2} q^{2} e^{8 a q} + 12 k^{2} q^{2} e^{4 a q} + 2 k^{2} q^{2} + q^{4} e^{8 a q} - 2 q^{4} e^{4 a q} + q^{4}\\right)}$$"
      ],
      "text/plain": [
       "<IPython.core.display.Math object>"
      ]
     },
     "metadata": {},
     "output_type": "display_data"
    },
    {
     "data": {
      "text/latex": [
       "$$\\text{Yansıma katsayısı:} \\quad R = |j_R|/|J_I|$$"
      ],
      "text/plain": [
       "<IPython.core.display.Math object>"
      ]
     },
     "metadata": {},
     "output_type": "display_data"
    },
    {
     "data": {
      "text/latex": [
       "$$\\text{Geçme katsayısı:} \\quad T = |j_T|/|J_I|$$"
      ],
      "text/plain": [
       "<IPython.core.display.Math object>"
      ]
     },
     "metadata": {},
     "output_type": "display_data"
    }
   ],
   "source": [
    "jI = hbar*k/m\n",
    "jR = hbar*k/m * simplify(solR*conjugate(solR))\n",
    "jT = hbar*k/m * simplify(solT*conjugate(solT))\n",
    "lprint(\"j_I =\", jI)\n",
    "lprint(\"j_R =\", jR)\n",
    "lprint(\"j_T =\", jT)\n",
    "\n",
    "\n",
    "R = jR/jI\n",
    "T = jT/jI\n",
    "mprint(u\"\\\\text{Yansıma katsayısı:} \\\\quad R = |j_R|/|J_I|\")\n",
    "mprint(u\"\\\\text{Geçme katsayısı:} \\\\quad T = |j_T|/|J_I|\")"
   ]
  },
  {
   "cell_type": "markdown",
   "metadata": {},
   "source": [
    "### Yansıma (R) ve geçiş (T) katsayıları: $E$ ve $V_0$ cinsinden"
   ]
  },
  {
   "cell_type": "code",
   "execution_count": 22,
   "metadata": {
    "ExecuteTime": {
     "end_time": "2019-11-01T14:18:10.659477Z",
     "start_time": "2019-11-01T14:18:08.657350Z"
    }
   },
   "outputs": [
    {
     "data": {
      "text/latex": [
       "$$R =\\frac{\\left(En^{2} + \\left(En - V_{0}\\right)^{2}\\right)^{2} \\left(- e^{\\frac{2 a \\hbar^{2} \\left(En - V_{0}\\right)}{m}} + 1\\right)^{2}}{En^{4} + 2 En^{2} \\left(En - V_{0}\\right)^{2} + \\left(En - V_{0}\\right)^{4} + 2 \\left(- En^{4} + 6 En^{2} \\left(En - V_{0}\\right)^{2} - \\left(En - V_{0}\\right)^{4}\\right) e^{\\frac{2 a \\hbar^{2} \\left(En - V_{0}\\right)}{m}} + \\left(En^{4} + 2 En^{2} \\left(En - V_{0}\\right)^{2} + \\left(En - V_{0}\\right)^{4}\\right) e^{\\frac{4 a \\hbar^{2} \\left(En - V_{0}\\right)}{m}}}$$"
      ],
      "text/plain": [
       "<IPython.core.display.Math object>"
      ]
     },
     "metadata": {},
     "output_type": "display_data"
    },
    {
     "data": {
      "text/latex": [
       "$$T =\\frac{16 En^{2} \\left(En - V_{0}\\right)^{2} e^{\\frac{2 a \\hbar^{2} \\left(En - V_{0}\\right)}{m}}}{En^{4} + 2 En^{2} \\left(En - V_{0}\\right)^{2} + \\left(En - V_{0}\\right)^{4} + 2 \\left(- En^{4} + 6 En^{2} \\left(En - V_{0}\\right)^{2} - \\left(En - V_{0}\\right)^{4}\\right) e^{\\frac{2 a \\hbar^{2} \\left(En - V_{0}\\right)}{m}} + \\left(En^{4} + 2 En^{2} \\left(En - V_{0}\\right)^{2} + \\left(En - V_{0}\\right)^{4}\\right) e^{\\frac{4 a \\hbar^{2} \\left(En - V_{0}\\right)}{m}}}$$"
      ],
      "text/plain": [
       "<IPython.core.display.Math object>"
      ]
     },
     "metadata": {},
     "output_type": "display_data"
    }
   ],
   "source": [
    "prms1 = {q:hbar**2/(2*m) * (V_0-En), k:hbar**2/(2*m) * En}\n",
    "\n",
    "Re = simplify(R.subs(prms1))\n",
    "Te = simplify(T.subs(prms1))\n",
    "lprint(\"R =\", Re)\n",
    "lprint(\"T =\", Te)"
   ]
  },
  {
   "cell_type": "markdown",
   "metadata": {},
   "source": [
    "### $x = E/V_0$ değişken dönüşümü"
   ]
  },
  {
   "cell_type": "code",
   "execution_count": 23,
   "metadata": {
    "ExecuteTime": {
     "end_time": "2019-11-01T14:18:12.449681Z",
     "start_time": "2019-11-01T14:18:10.662844Z"
    }
   },
   "outputs": [
    {
     "data": {
      "text/latex": [
       "$$R =\\frac{\\left(x^{2} + \\left(x - 1\\right)^{2}\\right)^{2} \\left(- e^{\\frac{2 V_{0} a \\hbar^{2} \\left(x - 1\\right)}{m}} + 1\\right)^{2}}{x^{4} + 2 x^{2} \\left(x - 1\\right)^{2} + \\left(x - 1\\right)^{4} + 2 \\left(- x^{4} + 6 x^{2} \\left(x - 1\\right)^{2} - \\left(x - 1\\right)^{4}\\right) e^{\\frac{2 V_{0} a \\hbar^{2} \\left(x - 1\\right)}{m}} + \\left(x^{4} + 2 x^{2} \\left(x - 1\\right)^{2} + \\left(x - 1\\right)^{4}\\right) e^{\\frac{4 V_{0} a \\hbar^{2} \\left(x - 1\\right)}{m}}}$$"
      ],
      "text/plain": [
       "<IPython.core.display.Math object>"
      ]
     },
     "metadata": {},
     "output_type": "display_data"
    },
    {
     "data": {
      "text/latex": [
       "$$T =\\frac{16 x^{2} \\left(x - 1\\right)^{2} e^{\\frac{2 V_{0} a \\hbar^{2} \\left(x - 1\\right)}{m}}}{x^{4} + 2 x^{2} \\left(x - 1\\right)^{2} + \\left(x - 1\\right)^{4} + 2 \\left(- x^{4} + 6 x^{2} \\left(x - 1\\right)^{2} - \\left(x - 1\\right)^{4}\\right) e^{\\frac{2 V_{0} a \\hbar^{2} \\left(x - 1\\right)}{m}} + \\left(x^{4} + 2 x^{2} \\left(x - 1\\right)^{2} + \\left(x - 1\\right)^{4}\\right) e^{\\frac{4 V_{0} a \\hbar^{2} \\left(x - 1\\right)}{m}}}$$"
      ],
      "text/plain": [
       "<IPython.core.display.Math object>"
      ]
     },
     "metadata": {},
     "output_type": "display_data"
    }
   ],
   "source": [
    "prms2 = {q:hbar**2/(2*m) * (1-x) * V_0, k:hbar**2/(2*m) * x * V_0}\n",
    "\n",
    "Rx = simplify(R.subs(prms2))\n",
    "Tx = simplify(T.subs(prms2))\n",
    "lprint(\"R =\", Rx)\n",
    "lprint(\"T =\", Tx)"
   ]
  },
  {
   "cell_type": "markdown",
   "metadata": {},
   "source": [
    "### $E/V_0 \\leq 1$ için olasılık akılarının grafikleri"
   ]
  },
  {
   "cell_type": "code",
   "execution_count": 24,
   "metadata": {
    "ExecuteTime": {
     "end_time": "2019-11-01T14:18:12.927796Z",
     "start_time": "2019-11-01T14:18:12.453111Z"
    }
   },
   "outputs": [
    {
     "data": {
      "image/png": "[encoded data removed]",
      "text/plain": [
       "<Figure size 432x288 with 1 Axes>"
      ]
     },
     "metadata": {
      "needs_background": "light"
     },
     "output_type": "display_data"
    }
   ],
   "source": [
    "prms3 = {hbar:1, m:1, V_0:2, a:2}\n",
    "Rxs = Rx.subs(prms3)\n",
    "Txs = Tx.subs(prms3)\n",
    "\n",
    "pl = [Rxs, Txs, Rxs + Txs, (x, 1e-3 , 1)]\n",
    "p = plot(*pl, xlabel=\"$E/V_0$\", ylabel= \"$R, T$\", show=False)\n",
    "p[0].line_color=\"red\"\n",
    "p[1].line_color=\"blue\"\n",
    "p[2].line_color=\"black\"\n",
    "\n",
    "p.show()"
   ]
  },
  {
   "cell_type": "markdown",
   "metadata": {},
   "source": [
    "### Yukarıdaki grafiğin *Matplotlib* ve *NumPy* kütüphaneleri ile çizimi"
   ]
  },
  {
   "cell_type": "code",
   "execution_count": 25,
   "metadata": {
    "ExecuteTime": {
     "end_time": "2019-11-01T14:18:13.212222Z",
     "start_time": "2019-11-01T14:18:12.931244Z"
    }
   },
   "outputs": [
    {
     "data": {
      "image/png": "[encoded data removed]",
      "text/plain": [
       "<Figure size 648x432 with 1 Axes>"
      ]
     },
     "metadata": {
      "needs_background": "light"
     },
     "output_type": "display_data"
    }
   ],
   "source": [
    "#prms4 = {hbar:1, m:1, V_0:2, a:2}\n",
    "prms4 = {hbar:1, m:1, V_0:20, a:.045}\n",
    "nx = 2500 # x uzayının bölünme (dx'lerin) sayısı\n",
    "\n",
    "\n",
    "Rxs = lambdify(x, Rx.subs(prms4))\n",
    "Txs = lambdify(x, Tx.subs(prms4))\n",
    "\n",
    "xnp = np.linspace(1e-3, .999, nx)\n",
    "\n",
    "plt.figure(figsize=(9, 6))\n",
    "plt.plot(xnp, np.real(Rxs(xnp)), label=\"$R$\",lw=2, color='red')\n",
    "plt.plot(xnp, np.real(Txs(xnp)), label=\"$T$\", lw=2, color='blue')\n",
    "plt.plot(xnp, np.real(Rxs(xnp)+Txs(xnp)), label=\"$R + T$\", lw=2, color='black')\n",
    "\n",
    "plt.xlabel(\"$E/V_0$\", fontsize=28)\n",
    "plt.ylabel(\"$R, T$\", fontsize=28)\n",
    "plt.legend(loc=\"best\", fontsize=18)\n",
    "plt.grid()\n",
    "plt.show()"
   ]
  },
  {
   "cell_type": "markdown",
   "metadata": {},
   "source": [
    "### Dalga fonksiyonlarının reel kısımlarının çizimi"
   ]
  },
  {
   "cell_type": "code",
   "execution_count": 26,
   "metadata": {
    "ExecuteTime": {
     "end_time": "2019-11-01T14:18:13.499496Z",
     "start_time": "2019-11-01T14:18:13.214542Z"
    }
   },
   "outputs": [
    {
     "data": {
      "text/latex": [
       "$$x<-a$$"
      ],
      "text/plain": [
       "<IPython.core.display.Math object>"
      ]
     },
     "metadata": {},
     "output_type": "display_data"
    },
    {
     "data": {
      "text/latex": [
       "$$u_1(x) = - \\frac{\\left(k^{2} + q^{2}\\right) \\left(e^{4 a q} - 1\\right) e^{- 2 i a k} e^{- i k x}}{- k^{2} e^{4 a q} + k^{2} - 2 i k q e^{4 a q} - 2 i k q + q^{2} e^{4 a q} - q^{2}} + e^{i k x}$$"
      ],
      "text/plain": [
       "<IPython.core.display.Math object>"
      ]
     },
     "metadata": {},
     "output_type": "display_data"
    },
    {
     "data": {
      "text/latex": [
       "$$-a<x<a$$"
      ],
      "text/plain": [
       "<IPython.core.display.Math object>"
      ]
     },
     "metadata": {},
     "output_type": "display_data"
    },
    {
     "data": {
      "text/latex": [
       "$$u_2(x) = \\frac{2 k \\left(- i k^{2} e^{4 a q} + i k^{2} + 2 k q e^{4 a q} + i q^{2} e^{4 a q} + i q^{2}\\right) e^{- a \\left(i k - 3 q\\right)} e^{- q x}}{- i k^{3} e^{8 a q} + 2 i k^{3} e^{4 a q} - i k^{3} + 3 k^{2} q e^{8 a q} - 3 k^{2} q + 3 i k q^{2} e^{8 a q} + 2 i k q^{2} e^{4 a q} + 3 i k q^{2} - q^{3} e^{8 a q} + q^{3}} + \\frac{2 k \\left(i k + q\\right) \\left(- i k^{2} e^{4 a q} + i k^{2} + 2 k q e^{4 a q} + i q^{2} e^{4 a q} + i q^{2}\\right) e^{- 2 a q} e^{- a \\left(i k - 3 q\\right)} e^{q x}}{\\left(- i k + q\\right) \\left(- i k^{3} e^{8 a q} + 2 i k^{3} e^{4 a q} - i k^{3} + 3 k^{2} q e^{8 a q} - 3 k^{2} q + 3 i k q^{2} e^{8 a q} + 2 i k q^{2} e^{4 a q} + 3 i k q^{2} - q^{3} e^{8 a q} + q^{3}\\right)}$$"
      ],
      "text/plain": [
       "<IPython.core.display.Math object>"
      ]
     },
     "metadata": {},
     "output_type": "display_data"
    },
    {
     "data": {
      "text/latex": [
       "$$a<x$$"
      ],
      "text/plain": [
       "<IPython.core.display.Math object>"
      ]
     },
     "metadata": {},
     "output_type": "display_data"
    },
    {
     "data": {
      "text/latex": [
       "$$u_3(x) = \\frac{4 k q \\left(- k^{5} e^{a \\left(- i k + 4 q\\right)} + 3 k^{5} e^{a \\left(- i k + 8 q\\right)} - 3 k^{5} e^{a \\left(- i k + 12 q\\right)} + k^{5} e^{a \\left(- i k + 16 q\\right)} + 3 i k^{4} q e^{a \\left(- i k + 4 q\\right)} - i k^{4} q e^{a \\left(- i k + 8 q\\right)} - 7 i k^{4} q e^{a \\left(- i k + 12 q\\right)} + 5 i k^{4} q e^{a \\left(- i k + 16 q\\right)} + 2 k^{3} q^{2} e^{a \\left(- i k + 4 q\\right)} + 6 k^{3} q^{2} e^{a \\left(- i k + 8 q\\right)} + 2 k^{3} q^{2} e^{a \\left(- i k + 12 q\\right)} - 10 k^{3} q^{2} e^{a \\left(- i k + 16 q\\right)} + 2 i k^{2} q^{3} e^{a \\left(- i k + 4 q\\right)} - 2 i k^{2} q^{3} e^{a \\left(- i k + 8 q\\right)} - 6 i k^{2} q^{3} e^{a \\left(- i k + 12 q\\right)} - 10 i k^{2} q^{3} e^{a \\left(- i k + 16 q\\right)} + 3 k q^{4} e^{a \\left(- i k + 4 q\\right)} + 3 k q^{4} e^{a \\left(- i k + 8 q\\right)} + 5 k q^{4} e^{a \\left(- i k + 12 q\\right)} + 5 k q^{4} e^{a \\left(- i k + 16 q\\right)} - i q^{5} e^{a \\left(- i k + 4 q\\right)} - i q^{5} e^{a \\left(- i k + 8 q\\right)} + i q^{5} e^{a \\left(- i k + 12 q\\right)} + i q^{5} e^{a \\left(- i k + 16 q\\right)}\\right) e^{- a \\left(i k + 2 q\\right)} e^{i k x}}{\\left(i k - q\\right) \\left(- i k^{3} e^{8 a q} + 2 i k^{3} e^{4 a q} - i k^{3} + 3 k^{2} q e^{8 a q} - 3 k^{2} q + 3 i k q^{2} e^{8 a q} + 2 i k q^{2} e^{4 a q} + 3 i k q^{2} - q^{3} e^{8 a q} + q^{3}\\right)^{2}}$$"
      ],
      "text/plain": [
       "<IPython.core.display.Math object>"
      ]
     },
     "metadata": {},
     "output_type": "display_data"
    }
   ],
   "source": [
    "u1s = u1(x).subs({R:solR})\n",
    "u2s = u2(x).subs({A:solA, B:solB})\n",
    "u3s = u3(x).subs({T:solT})\n",
    "\n",
    "mprint(\"x<-a\")\n",
    "lprint(\"u_1(x) = \", u1s)\n",
    "mprint(\"-a<x<a\")\n",
    "lprint(\"u_2(x) = \", u2s)\n",
    "mprint(\"a<x\")\n",
    "lprint(\"u_3(x) = \", u3s)"
   ]
  },
  {
   "cell_type": "markdown",
   "metadata": {},
   "source": [
    "### Dalga fonksiyonlarının $E$ ve $V_0$ ile tekrar yazımı"
   ]
  },
  {
   "cell_type": "code",
   "execution_count": 27,
   "metadata": {
    "ExecuteTime": {
     "end_time": "2019-11-01T14:18:13.573577Z",
     "start_time": "2019-11-01T14:18:13.502916Z"
    }
   },
   "outputs": [],
   "source": [
    "prms = {q:hbar**2/(2*m) * (En+V_0), k:hbar**2/(2*m) * En}\n",
    "\n",
    "u1e = u1s.subs(prms)\n",
    "u2e = u2s.subs(prms)\n",
    "u3e = u3s.subs(prms)"
   ]
  },
  {
   "cell_type": "code",
   "execution_count": 28,
   "metadata": {
    "ExecuteTime": {
     "end_time": "2019-11-01T14:18:13.963741Z",
     "start_time": "2019-11-01T14:18:13.577101Z"
    }
   },
   "outputs": [
    {
     "data": {
      "image/png": "[encoded data removed]",
      "text/plain": [
       "<Figure size 648x432 with 1 Axes>"
      ]
     },
     "metadata": {
      "needs_background": "light"
     },
     "output_type": "display_data"
    }
   ],
   "source": [
    "a0 = .045    # [-a, +a] kuyunun sınırları\n",
    "xoo = .9 # x uzayının pratik sonsuzu\n",
    "En0 = 14.   # parçacığın gelme enerjisi\n",
    "V_00 = 20.  # kuyunun derinliği\n",
    "nx = 250 # x uzayının bölünme (dx'lerin) sayısı \n",
    "\n",
    "prms = {En:En0, V_0:V_00, a:a0, hbar:1, m:1}\n",
    "xnp1 = np.linspace(-xoo, -a0, nx)\n",
    "xnp2 = np.linspace(-a0, a0, nx)\n",
    "xnp3 = np.linspace(a0, xoo, nx)\n",
    "\n",
    "u1re = u1e.subs(prms)\n",
    "u1np = lambdify(x, u1re)\n",
    "\n",
    "u2re = u2e.subs(prms)\n",
    "u2np = lambdify(x, u2re)\n",
    "\n",
    "u3re = u3e.subs(prms)\n",
    "u3np = lambdify(x, u3re)\n",
    "\n",
    "# çizimin büyüklüğü\n",
    "plt.figure(figsize=(9, 6))\n",
    "\n",
    "# dalga fonksiyonlarını\n",
    "scaleU = 4\n",
    "plt.plot(xnp1, En0 + np.real(u1np(xnp1))*scaleU, lw=2, color=\"green\", label=\"gelen\")\n",
    "plt.plot(xnp2, En0 + np.real(u2np(xnp2))*scaleU, lw=2, color=\"blue\", label=u\"kuyu içi\")\n",
    "plt.plot(xnp3, En0 + np.real(u3np(xnp3))*scaleU, lw=2, color=\"orange\", label=u\"geçen\")\n",
    "\n",
    "# kuyu\n",
    "plt.plot([-xoo, -a0, -a0, a0, a0, xoo], [0, 0, V_00, V_00, 0, 0], lw=4, zorder=-999, color=\"blue\")\n",
    "\n",
    "# enerji\n",
    "plt.plot([-xoo, xoo], [En0, En0], lw=3, zorder=-999, color=\"red\", label='Enerji')\n",
    "\n",
    "\n",
    "plt.xlabel(\"$x$\", fontsize=28)\n",
    "plt.ylabel(\"$re[u(x)]$\", fontsize=28)\n",
    "plt.ylim(-(V_00-En0)*1.25 , V_00*1.25)\n",
    "plt.legend(loc=\"best\", fontsize=16)\n",
    "plt.grid()\n",
    "plt.show()"
   ]
  },
  {
   "cell_type": "code",
   "execution_count": null,
   "metadata": {},
   "outputs": [],
   "source": []
  },
  {
   "cell_type": "code",
   "execution_count": 29,
   "metadata": {
    "ExecuteTime": {
     "end_time": "2019-11-01T14:18:14.197928Z",
     "start_time": "2019-11-01T14:18:13.966168Z"
    }
   },
   "outputs": [
    {
     "data": {
      "image/png": "[encoded data removed]",
      "text/plain": [
       "<Figure size 648x432 with 1 Axes>"
      ]
     },
     "metadata": {
      "needs_background": "light"
     },
     "output_type": "display_data"
    }
   ],
   "source": [
    "prms = {En:En0, V_0:V_00, a:a0, hbar:1, m:1}\n",
    "xnp1 = np.linspace(-xoo, -a0, nx)\n",
    "xnp2 = np.linspace(-a0, a0, nx)\n",
    "xnp3 = np.linspace(a0, xoo, nx)\n",
    "\n",
    "u1re = u1e.subs(prms)\n",
    "u1np = lambdify(x, u1re)\n",
    "\n",
    "u2re = u2e.subs(prms)\n",
    "u2np = lambdify(x, u2re)\n",
    "\n",
    "u3re = u3e.subs(prms)\n",
    "u3np = lambdify(x, u3re)\n",
    "\n",
    "# çizimin büyüklüğü\n",
    "plt.figure(figsize=(9, 6))\n",
    "\n",
    "# dalga fonksiyonlarını\n",
    "plt.plot(xnp1, En0 + np.imag(u1np(xnp1))*scaleU, lw=2, color=\"green\", label=\"gelen\")\n",
    "plt.plot(xnp2, En0 + np.imag(u2np(xnp2))*scaleU, lw=2, color=\"blue\", label=u\"bariyer içi\")\n",
    "plt.plot(xnp3, En0 + np.imag(u3np(xnp3))*scaleU, lw=2, color=\"orange\", label=u\"geçen\")\n",
    "\n",
    "# kuyu\n",
    "plt.plot([-xoo, -a0, -a0, a0, a0, xoo], [0, 0, V_00, V_00, 0, 0], \"--\", lw=3, zorder=-999, color=\"black\")\n",
    "\n",
    "# enerji\n",
    "plt.plot([-xoo, xoo], [En0, En0], lw=2, zorder=-999, color=\"red\", label='Enerji')\n",
    "\n",
    "\n",
    "plt.xlabel(\"$x$\", fontsize=28)\n",
    "plt.ylabel(\"$im[u(x)]$\", fontsize=28)\n",
    "plt.ylim(-(V_00-En0)*1.25 , (V_00)*1.35)\n",
    "plt.legend(loc=\"best\", fontsize=16)\n",
    "plt.grid()\n",
    "plt.show()"
   ]
  },
  {
   "cell_type": "markdown",
   "metadata": {},
   "source": [
    "### $|u(x)|^2$ olasılık yoğunluklarının çizimi"
   ]
  },
  {
   "cell_type": "code",
   "execution_count": 30,
   "metadata": {
    "ExecuteTime": {
     "end_time": "2019-11-01T14:18:14.499782Z",
     "start_time": "2019-11-01T14:18:14.200321Z"
    }
   },
   "outputs": [
    {
     "data": {
      "image/png": "[encoded data removed]",
      "text/plain": [
       "<Figure size 648x432 with 1 Axes>"
      ]
     },
     "metadata": {
      "needs_background": "light"
     },
     "output_type": "display_data"
    }
   ],
   "source": [
    "prms = {En:En0, V_0:V_00, a:a0, hbar:1, m:1}\n",
    "xnp1 = np.linspace(-xoo, -a0, nx)\n",
    "xnp2 = np.linspace(-a0, a0, nx)\n",
    "xnp3 = np.linspace(a0, xoo, nx)\n",
    "\n",
    "u1re = u1e.subs(prms) * conjugate(u1e.subs(prms)) \n",
    "u1np = lambdify(x, u1re)\n",
    "\n",
    "u2re = u2e.subs(prms) * conjugate(u2e.subs(prms)) \n",
    "u2np = lambdify(x, u2re)\n",
    "\n",
    "u3re = u3e.subs(prms) * conjugate(u3e.subs(prms)) \n",
    "u3np = lambdify(x, u3re)\n",
    "\n",
    "# çizimin büyüklüğü\n",
    "plt.figure(figsize=(9, 6))\n",
    "\n",
    "# dalga fonksiyonlarını\n",
    "scaleU = 4\n",
    "#plt.plot(xnp1, np.real(u1np(xnp1)))\n",
    "#plt.plot(xnp2, np.real(u2np(xnp2)))\n",
    "plt.plot(xnp1, En0 + np.sqrt(np.real(u1np(xnp1)))*scaleU, lw=3, color=\"green\", label=\"gelen\")\n",
    "plt.plot(xnp2, En0 + np.sqrt(np.real(u2np(xnp2)))*scaleU, lw=2, color=\"blue\", label=u\"kuyu içi\")\n",
    "plt.plot(xnp3, [En0 + np.sqrt(np.real(u3np(xnp3)))*scaleU]*len(xnp3), lw=3, color=\"orange\", label=u\"geçen\")\n",
    "\n",
    "# kuyu\n",
    "plt.plot([-xoo, -a0, -a0, a0, a0, xoo], [0, 0, V_00, V_00, 0, 0], lw=4, zorder=-999)\n",
    "\n",
    "# enerji\n",
    "plt.plot([-xoo, xoo], [En0, En0], lw=4, zorder=-999, color=\"red\", label=\"enerji\")\n",
    "\n",
    "\n",
    "plt.xlabel(\"$x$\", fontsize=28)\n",
    "plt.ylabel(\"$|u(x)|$\", fontsize=28)\n",
    "plt.ylim(-(V_00-En0)*1.25 , (V_00)*1.35)\n",
    "plt.legend(loc=\"best\", fontsize=16)\n",
    "plt.grid()\n",
    "plt.show()"
   ]
  },
  {
   "cell_type": "code",
   "execution_count": null,
   "metadata": {},
   "outputs": [],
   "source": []
  }
 ],
 "metadata": {
  "hide_input": false,
  "kernelspec": {
   "display_name": "Python 2",
   "language": "python2",
   "name": "python2"
  },
  "language_info": {
   "codemirror_mode": {
    "name": "ipython",
    "version": 2
   },
   "file_extension": ".py",
   "mimetype": "text/x-python",
   "name": "python",
   "nbconvert_exporter": "python",
   "pygments_lexer": "ipython2",
   "version": "2.7.15+"
  },
  "toc": {
   "collapse_to_match_collapsible_headings": false,
   "colors": {
    "hover_highlight": "#DAA520",
    "running_highlight": "#FF0000",
    "selected_highlight": "#FFD700"
   },
   "moveMenuLeft": true,
   "nav_menu": {
    "height": "66px",
    "width": "252px"
   },
   "navigate_menu": true,
   "number_sections": true,
   "sideBar": true,
   "threshold": "5",
   "title_cell": "İçindekiler",
   "toc_cell": false,
   "toc_section_display": "block",
   "toc_window_display": true
  },
  "varInspector": {
   "cols": {
    "lenName": 16,
    "lenType": 16,
    "lenVar": 40
   },
   "kernels_config": {
    "python": {
     "delete_cmd_postfix": "",
     "delete_cmd_prefix": "del ",
     "library": "var_list.py",
     "varRefreshCmd": "print(var_dic_list())"
    },
    "r": {
     "delete_cmd_postfix": ") ",
     "delete_cmd_prefix": "rm(",
     "library": "var_list.r",
     "varRefreshCmd": "cat(var_dic_list()) "
    }
   },
   "types_to_exclude": [
    "module",
    "function",
    "builtin_function_or_method",
    "instance",
    "_Feature"
   ],
   "window_display": false
  }
 },
 "nbformat": 4,
 "nbformat_minor": 2
}
