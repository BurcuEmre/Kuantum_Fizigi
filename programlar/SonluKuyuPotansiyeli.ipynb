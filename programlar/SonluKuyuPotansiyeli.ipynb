{
 "cells": [
  {
   "cell_type": "markdown",
   "metadata": {},
   "source": [
    "# Bir boyutlu potansiyeller\n",
    "\n",
    "## Sonlu kuyu potansiyelinin incelenmesi"
   ]
  },
  {
   "cell_type": "code",
   "execution_count": 1,
   "metadata": {
    "ExecuteTime": {
     "end_time": "2018-11-23T13:50:26.851744Z",
     "start_time": "2018-11-23T13:50:26.347445Z"
    }
   },
   "outputs": [],
   "source": [
    "%matplotlib inline\n",
    "import matplotlib.pyplot as plt\n",
    "import numpy as np\n",
    "from sympy import *\n",
    "from IPython.display import Math\n",
    "init_printing()"
   ]
  },
  {
   "cell_type": "code",
   "execution_count": 2,
   "metadata": {
    "ExecuteTime": {
     "end_time": "2018-11-23T13:50:26.863631Z",
     "start_time": "2018-11-23T13:50:26.855067Z"
    }
   },
   "outputs": [],
   "source": [
    "x = symbols('x', real=True)\n",
    "hbar, m = symbols('hbar, m', real=True, positive=True)\n",
    "En, V_0, k, q = symbols('En, V_0, k, q', real=True, positive=True)\n",
    "a = symbols('a', real=True, positive=True)\n",
    "A, B, R, T = symbols('A, B, R, T')\n",
    "\n",
    "u = Function('u')\n",
    "V = Function('V')\n",
    "\n",
    "mprint = lambda X: display(Math(X))\n",
    "lprint = lambda X, F: display(Math(X + latex(F)))\n",
    "rprint = lambda F, X: display(Math(latex(F) + X))\n",
    "eprint = lambda F1, X, F2: display(Math(latex(F1) + X + latex(F2) ))\n",
    "pprint = lambda F, X: display(Math(X.join([latex(f) for f in F])))"
   ]
  },
  {
   "cell_type": "code",
   "execution_count": 3,
   "metadata": {
    "ExecuteTime": {
     "end_time": "2018-11-23T13:50:27.123939Z",
     "start_time": "2018-11-23T13:50:26.866756Z"
    }
   },
   "outputs": [
    {
     "data": {
      "text/latex": [
       "$$k^{2} u{\\left (x \\right )} + \\frac{d^{2}}{d x^{2}}  u{\\left (x \\right )}= 0$$"
      ],
      "text/plain": [
       "<IPython.core.display.Math object>"
      ]
     },
     "metadata": {},
     "output_type": "display_data"
    },
    {
     "data": {
      "image/png": "[encoded data removed]",
      "text/latex": [
       "$$u{\\left (x \\right )} = C_{1} \\sin{\\left (k x \\right )} + C_{2} \\cos{\\left (k x \\right )}$$"
      ],
      "text/plain": [
       "u(x) = C₁⋅sin(k⋅x) + C₂⋅cos(k⋅x)"
      ]
     },
     "metadata": {},
     "output_type": "display_data"
    }
   ],
   "source": [
    "eq = diff(u(x), x, x) + k**2 * u(x)\n",
    "sol = dsolve(eq)\n",
    "\n",
    "rprint(eq, \"= 0\")\n",
    "display(sol)"
   ]
  },
  {
   "cell_type": "code",
   "execution_count": 4,
   "metadata": {
    "ExecuteTime": {
     "end_time": "2018-11-23T13:50:27.188259Z",
     "start_time": "2018-11-23T13:50:27.127330Z"
    }
   },
   "outputs": [
    {
     "data": {
      "text/latex": [
       "$$j(x) = \\frac{i \\hbar}{2 m} \\left(u{\\left (x \\right )} \\overline{\\frac{d}{d x} u{\\left (x \\right )}} - \\overline{u{\\left (x \\right )}} \\frac{d}{d x} u{\\left (x \\right )}\\right)$$"
      ],
      "text/plain": [
       "<IPython.core.display.Math object>"
      ]
     },
     "metadata": {},
     "output_type": "display_data"
    }
   ],
   "source": [
    "u = Function('u')\n",
    "\n",
    "j = lambda x: hbar/(2*I*m)*(conjugate(u(x)) * diff(u(x),x) - conjugate(diff(u(x),x))*u(x))\n",
    "lprint(\"j(x) = \", simplify(j(x)))"
   ]
  },
  {
   "cell_type": "code",
   "execution_count": 5,
   "metadata": {
    "ExecuteTime": {
     "end_time": "2018-11-23T13:50:27.234729Z",
     "start_time": "2018-11-23T13:50:27.191432Z"
    }
   },
   "outputs": [
    {
     "data": {
      "text/latex": [
       "$$x<-a$$"
      ],
      "text/plain": [
       "<IPython.core.display.Math object>"
      ]
     },
     "metadata": {},
     "output_type": "display_data"
    },
    {
     "data": {
      "text/latex": [
       "$$u(x) = R e^{- i k x} + e^{i k x}$$"
      ],
      "text/plain": [
       "<IPython.core.display.Math object>"
      ]
     },
     "metadata": {},
     "output_type": "display_data"
    }
   ],
   "source": [
    "u1 = lambda x: exp(I*k*x) + R*exp(-I*k*x)\n",
    "mprint(\"x<-a\")\n",
    "lprint(\"u(x) = \", u1(x))"
   ]
  },
  {
   "cell_type": "code",
   "execution_count": 6,
   "metadata": {
    "ExecuteTime": {
     "end_time": "2018-11-23T13:50:27.378090Z",
     "start_time": "2018-11-23T13:50:27.237931Z"
    }
   },
   "outputs": [
    {
     "data": {
      "text/latex": [
       "$$j(x) = \\frac{\\hbar k}{m} \\left(- R \\overline{R} + 1\\right)$$"
      ],
      "text/plain": [
       "<IPython.core.display.Math object>"
      ]
     },
     "metadata": {},
     "output_type": "display_data"
    }
   ],
   "source": [
    "u = u1\n",
    "j1 = simplify(expand(j(x)))\n",
    "lprint(\"j(x) = \", j1)"
   ]
  },
  {
   "cell_type": "code",
   "execution_count": 7,
   "metadata": {
    "ExecuteTime": {
     "end_time": "2018-11-23T13:50:27.438417Z",
     "start_time": "2018-11-23T13:50:27.381323Z"
    }
   },
   "outputs": [
    {
     "data": {
      "text/latex": [
       "$$-a<x<a$$"
      ],
      "text/plain": [
       "<IPython.core.display.Math object>"
      ]
     },
     "metadata": {},
     "output_type": "display_data"
    },
    {
     "data": {
      "text/latex": [
       "$$u(x) = A e^{i q x} + B e^{- i q x}$$"
      ],
      "text/plain": [
       "<IPython.core.display.Math object>"
      ]
     },
     "metadata": {},
     "output_type": "display_data"
    }
   ],
   "source": [
    "u2 = lambda x: A*exp(I*q*x) + B*exp(-I*q*x)\n",
    "mprint(\"-a<x<a\")\n",
    "lprint(\"u(x) = \", u2(x))"
   ]
  },
  {
   "cell_type": "code",
   "execution_count": 8,
   "metadata": {
    "ExecuteTime": {
     "end_time": "2018-11-23T13:50:27.588501Z",
     "start_time": "2018-11-23T13:50:27.442146Z"
    }
   },
   "outputs": [
    {
     "data": {
      "text/latex": [
       "$$j(x) = \\frac{\\hbar q}{m} \\left|{A \\overline{A} - B \\overline{B}}\\right|$$"
      ],
      "text/plain": [
       "<IPython.core.display.Math object>"
      ]
     },
     "metadata": {},
     "output_type": "display_data"
    }
   ],
   "source": [
    "u = u2\n",
    "j2 = Abs(simplify(expand(j(x))))\n",
    "lprint(\"j(x) = \", j2)"
   ]
  },
  {
   "cell_type": "code",
   "execution_count": 9,
   "metadata": {
    "ExecuteTime": {
     "end_time": "2018-11-23T13:50:27.681943Z",
     "start_time": "2018-11-23T13:50:27.591732Z"
    }
   },
   "outputs": [
    {
     "data": {
      "text/latex": [
       "$$x>a$$"
      ],
      "text/plain": [
       "<IPython.core.display.Math object>"
      ]
     },
     "metadata": {},
     "output_type": "display_data"
    },
    {
     "data": {
      "text/latex": [
       "$$u(x) = T e^{i k x}$$"
      ],
      "text/plain": [
       "<IPython.core.display.Math object>"
      ]
     },
     "metadata": {},
     "output_type": "display_data"
    }
   ],
   "source": [
    "u3 = lambda x: T*exp(I*k*x)\n",
    "mprint(\"x>a\")\n",
    "display(Math(\"u(x) = \"+ latex(u3(x))))"
   ]
  },
  {
   "cell_type": "code",
   "execution_count": 10,
   "metadata": {
    "ExecuteTime": {
     "end_time": "2018-11-23T13:50:27.790479Z",
     "start_time": "2018-11-23T13:50:27.685888Z"
    }
   },
   "outputs": [
    {
     "data": {
      "text/latex": [
       "$$j(x) = \\frac{\\hbar k}{m} \\left|{T^{2}}\\right|$$"
      ],
      "text/plain": [
       "<IPython.core.display.Math object>"
      ]
     },
     "metadata": {},
     "output_type": "display_data"
    }
   ],
   "source": [
    "u = u3\n",
    "j3 = Abs(expand(j(x)))\n",
    "lprint(\"j(x) = \", j3)"
   ]
  },
  {
   "cell_type": "markdown",
   "metadata": {},
   "source": [
    "### Korunum ilkesinden"
   ]
  },
  {
   "cell_type": "code",
   "execution_count": 11,
   "metadata": {
    "ExecuteTime": {
     "end_time": "2018-11-23T13:50:27.883367Z",
     "start_time": "2018-11-23T13:50:27.793614Z"
    }
   },
   "outputs": [
    {
     "data": {
      "text/latex": [
       "$$j_1=j_2=j_3$$"
      ],
      "text/plain": [
       "<IPython.core.display.Math object>"
      ]
     },
     "metadata": {},
     "output_type": "display_data"
    },
    {
     "data": {
      "text/latex": [
       "$$\\frac{\\hbar k}{m} \\left(- R \\overline{R} + 1\\right)=\\frac{\\hbar q}{m} \\left|{A \\overline{A} - B \\overline{B}}\\right|=\\frac{\\hbar k}{m} \\left|{T^{2}}\\right|$$"
      ],
      "text/plain": [
       "<IPython.core.display.Math object>"
      ]
     },
     "metadata": {},
     "output_type": "display_data"
    }
   ],
   "source": [
    "pprint([\"j_1\", \"j_2\", \"j_3\"], \"=\")\n",
    "pprint([j1,j2,j3], \"=\")"
   ]
  },
  {
   "cell_type": "markdown",
   "metadata": {},
   "source": [
    "### Dalga fonksiyonunun sürekliliğinden"
   ]
  },
  {
   "cell_type": "code",
   "execution_count": 12,
   "metadata": {
    "ExecuteTime": {
     "end_time": "2018-11-23T13:50:27.991749Z",
     "start_time": "2018-11-23T13:50:27.885498Z"
    }
   },
   "outputs": [
    {
     "data": {
      "text/latex": [
       "$$u_1(-a) = u_2(-a)$$"
      ],
      "text/plain": [
       "<IPython.core.display.Math object>"
      ]
     },
     "metadata": {},
     "output_type": "display_data"
    },
    {
     "data": {
      "text/latex": [
       "$$u_2(a) = u_3(a)$$"
      ],
      "text/plain": [
       "<IPython.core.display.Math object>"
      ]
     },
     "metadata": {},
     "output_type": "display_data"
    },
    {
     "data": {
      "text/latex": [
       "$$R e^{i a k} + e^{- i a k}=A e^{- i a q} + B e^{i a q}$$"
      ],
      "text/plain": [
       "<IPython.core.display.Math object>"
      ]
     },
     "metadata": {},
     "output_type": "display_data"
    },
    {
     "data": {
      "text/latex": [
       "$$A e^{i a q} + B e^{- i a q}=T e^{i a k}$$"
      ],
      "text/plain": [
       "<IPython.core.display.Math object>"
      ]
     },
     "metadata": {},
     "output_type": "display_data"
    }
   ],
   "source": [
    "mprint(\"u_1(-a) = u_2(-a)\")\n",
    "mprint(\"u_2(a) = u_3(a)\")\n",
    "eprint(u1(-a), \"=\" ,u2(-a))\n",
    "eprint(u2(a), \"=\" ,u3(a))"
   ]
  },
  {
   "cell_type": "markdown",
   "metadata": {},
   "source": [
    "### Türevlerin sürekliliğinden"
   ]
  },
  {
   "cell_type": "code",
   "execution_count": 13,
   "metadata": {
    "ExecuteTime": {
     "end_time": "2018-11-23T13:50:28.637560Z",
     "start_time": "2018-11-23T13:50:27.994948Z"
    }
   },
   "outputs": [
    {
     "data": {
      "text/latex": [
       "$$\\frac{d u_1(x)}{dx}= i k \\left(- R + e^{2 i k x}\\right) e^{- i k x}$$"
      ],
      "text/plain": [
       "<IPython.core.display.Math object>"
      ]
     },
     "metadata": {},
     "output_type": "display_data"
    },
    {
     "data": {
      "text/latex": [
       "$$\\frac{d u_2(x)}{dx} = i q \\left(A e^{2 i q x} - B\\right) e^{- i q x}$$"
      ],
      "text/plain": [
       "<IPython.core.display.Math object>"
      ]
     },
     "metadata": {},
     "output_type": "display_data"
    },
    {
     "data": {
      "text/latex": [
       "$$\\frac{d u_3(x)}{dx}= i T k e^{i k x}$$"
      ],
      "text/plain": [
       "<IPython.core.display.Math object>"
      ]
     },
     "metadata": {},
     "output_type": "display_data"
    },
    {
     "data": {
      "text/latex": [
       "$$\\frac{d u_1(x)}{dx}\\bigg|_{x=-a} = \\frac{d u_2(x)}{dx}\\bigg|_{x=-a}$$"
      ],
      "text/plain": [
       "<IPython.core.display.Math object>"
      ]
     },
     "metadata": {},
     "output_type": "display_data"
    },
    {
     "data": {
      "text/latex": [
       "$$\\frac{d u_2(x)}{dx}\\bigg|_{x=a} = \\frac{d u_3(x)}{dx}\\bigg|_{x=a}$$"
      ],
      "text/plain": [
       "<IPython.core.display.Math object>"
      ]
     },
     "metadata": {},
     "output_type": "display_data"
    },
    {
     "data": {
      "text/latex": [
       "$$i k \\left(- R e^{2 i a k} + 1\\right) e^{- i a k}=i q \\left(A - B e^{2 i a q}\\right) e^{- i a q}$$"
      ],
      "text/plain": [
       "<IPython.core.display.Math object>"
      ]
     },
     "metadata": {},
     "output_type": "display_data"
    },
    {
     "data": {
      "text/latex": [
       "$$i q \\left(A e^{2 i a q} - B\\right) e^{- i a q}=i T k e^{i a k}$$"
      ],
      "text/plain": [
       "<IPython.core.display.Math object>"
      ]
     },
     "metadata": {},
     "output_type": "display_data"
    }
   ],
   "source": [
    "du1 = lambda x0: simplify(diff(u1(x), x).subs(x, x0))\n",
    "du2 = lambda x0: simplify(diff(u2(x), x).subs(x, x0))\n",
    "du3 = lambda x0: simplify(diff(u3(x), x).subs(x, x0))\n",
    "\n",
    "lprint(\"\\\\frac{d u_1(x)}{dx}= \", du1(x))\n",
    "lprint(\"\\\\frac{d u_2(x)}{dx} = \", du2(x))\n",
    "lprint(\"\\\\frac{d u_3(x)}{dx}= \", du3(x))\n",
    "\n",
    "mprint(\"\\\\frac{d u_1(x)}{dx}\\\\bigg|_{x=-a} = \\\\frac{d u_2(x)}{dx}\\\\bigg|_{x=-a}\")\n",
    "mprint(\"\\\\frac{d u_2(x)}{dx}\\\\bigg|_{x=a} = \\\\frac{d u_3(x)}{dx}\\\\bigg|_{x=a}\")\n",
    "eprint(du1(-a),\"=\",du2(-a))\n",
    "eprint(du2(a),\"=\",du3(a))"
   ]
  },
  {
   "cell_type": "markdown",
   "metadata": {},
   "source": [
    "### Süreklilik şartlarından elde edilen eşitlikler"
   ]
  },
  {
   "cell_type": "code",
   "execution_count": 14,
   "metadata": {
    "ExecuteTime": {
     "end_time": "2018-11-23T13:50:28.747244Z",
     "start_time": "2018-11-23T13:50:28.640814Z"
    }
   },
   "outputs": [
    {
     "data": {
      "text/latex": [
       "$$R e^{i a k} + e^{- i a k}=A e^{- i a q} + B e^{i a q}$$"
      ],
      "text/plain": [
       "<IPython.core.display.Math object>"
      ]
     },
     "metadata": {},
     "output_type": "display_data"
    },
    {
     "data": {
      "text/latex": [
       "$$A e^{i a q} + B e^{- i a q}=T e^{i a k}$$"
      ],
      "text/plain": [
       "<IPython.core.display.Math object>"
      ]
     },
     "metadata": {},
     "output_type": "display_data"
    },
    {
     "data": {
      "text/latex": [
       "$$i k \\left(- R e^{2 i a k} + 1\\right) e^{- i a k}=i q \\left(A - B e^{2 i a q}\\right) e^{- i a q}$$"
      ],
      "text/plain": [
       "<IPython.core.display.Math object>"
      ]
     },
     "metadata": {},
     "output_type": "display_data"
    },
    {
     "data": {
      "text/latex": [
       "$$i q \\left(A e^{2 i a q} - B\\right) e^{- i a q}=i T k e^{i a k}$$"
      ],
      "text/plain": [
       "<IPython.core.display.Math object>"
      ]
     },
     "metadata": {},
     "output_type": "display_data"
    }
   ],
   "source": [
    "eprint(u1(-a), \"=\" ,u2(-a))\n",
    "eprint(u2(a), \"=\" ,u3(a))\n",
    "eprint(du1(-a),\"=\",du2(-a))\n",
    "eprint(du2(a),\"=\",du3(a))"
   ]
  },
  {
   "cell_type": "markdown",
   "metadata": {},
   "source": [
    "### Süreklilik şartlarının oranlarıda birbirine eşit olmalıdır"
   ]
  },
  {
   "cell_type": "code",
   "execution_count": 15,
   "metadata": {
    "ExecuteTime": {
     "end_time": "2018-11-23T13:50:28.862371Z",
     "start_time": "2018-11-23T13:50:28.749340Z"
    }
   },
   "outputs": [
    {
     "data": {
      "text/latex": [
       "$$x = -a$$"
      ],
      "text/plain": [
       "<IPython.core.display.Math object>"
      ]
     },
     "metadata": {},
     "output_type": "display_data"
    },
    {
     "data": {
      "text/latex": [
       "$$\\frac{1}{u_1(x)}\\frac{d u_1(x)}{dx}\\bigg|_{x=-a} = \\frac{1}{u_2(x)}\\frac{d u_2(x)}{dx}\\bigg|_{x=-a}$$"
      ],
      "text/plain": [
       "<IPython.core.display.Math object>"
      ]
     },
     "metadata": {},
     "output_type": "display_data"
    },
    {
     "data": {
      "text/latex": [
       "$$\\frac{i k \\left(- R e^{2 i a k} + 1\\right) e^{- i a k}}{R e^{i a k} + e^{- i a k}}=\\frac{i q \\left(A - B e^{2 i a q}\\right) e^{- i a q}}{A e^{- i a q} + B e^{i a q}}$$"
      ],
      "text/plain": [
       "<IPython.core.display.Math object>"
      ]
     },
     "metadata": {},
     "output_type": "display_data"
    },
    {
     "data": {
      "text/latex": [
       "$$x = a$$"
      ],
      "text/plain": [
       "<IPython.core.display.Math object>"
      ]
     },
     "metadata": {},
     "output_type": "display_data"
    },
    {
     "data": {
      "text/latex": [
       "$$\\frac{1}{u_2(x)}\\frac{d u_2(x)}{dx}\\bigg|_{x=a} = \\frac{1}{u_3(x)}\\frac{d u_3(x)}{dx}\\bigg|_{x=a}$$"
      ],
      "text/plain": [
       "<IPython.core.display.Math object>"
      ]
     },
     "metadata": {},
     "output_type": "display_data"
    },
    {
     "data": {
      "text/latex": [
       "$$\\frac{i q \\left(A e^{2 i a q} - B\\right) e^{- i a q}}{A e^{i a q} + B e^{- i a q}}=i k$$"
      ],
      "text/plain": [
       "<IPython.core.display.Math object>"
      ]
     },
     "metadata": {},
     "output_type": "display_data"
    }
   ],
   "source": [
    "u1ma = du1(-a)/u1(-a)\n",
    "u2ma = du2(-a)/u2(-a)\n",
    "u2pa = du2(a)/u2(a)\n",
    "u3pa = du3(a)/u3(a)\n",
    "\n",
    "mprint(\"x = -a\")\n",
    "mprint(\"\\\\frac{1}{u_1(x)}\\\\frac{d u_1(x)}{dx}\\\\bigg|_{x=-a} = \\\\frac{1}{u_2(x)}\\\\frac{d u_2(x)}{dx}\\\\bigg|_{x=-a}\")\n",
    "eprint(u1ma,\"=\" , u2ma)\n",
    "\n",
    "mprint(\"x = a\")\n",
    "mprint(\"\\\\frac{1}{u_2(x)}\\\\frac{d u_2(x)}{dx}\\\\bigg|_{x=a} = \\\\frac{1}{u_3(x)}\\\\frac{d u_3(x)}{dx}\\\\bigg|_{x=a}\")\n",
    "eprint(u2pa,\"=\" , u3pa)"
   ]
  },
  {
   "cell_type": "markdown",
   "metadata": {},
   "source": [
    "### A ve B yok edilip önce R bulunabilir"
   ]
  },
  {
   "cell_type": "code",
   "execution_count": 16,
   "metadata": {
    "ExecuteTime": {
     "end_time": "2018-11-23T13:50:29.329495Z",
     "start_time": "2018-11-23T13:50:28.865504Z"
    }
   },
   "outputs": [
    {
     "data": {
      "text/latex": [
       "$$A/B = \\frac{\\left(- R k e^{2 i a k} + R q e^{2 i a k} + k + q\\right) e^{2 i a q}}{R k e^{2 i a k} + R q e^{2 i a k} - k + q}$$"
      ],
      "text/plain": [
       "<IPython.core.display.Math object>"
      ]
     },
     "metadata": {},
     "output_type": "display_data"
    },
    {
     "data": {
      "text/latex": [
       "$$A/B = \\frac{\\left(k + q\\right) e^{- 2 i a q}}{- k + q}$$"
      ],
      "text/plain": [
       "<IPython.core.display.Math object>"
      ]
     },
     "metadata": {},
     "output_type": "display_data"
    },
    {
     "data": {
      "text/latex": [
       "$$A/B - A/B = \\frac{\\left(- R k e^{2 i a k} + R q e^{2 i a k} + k + q\\right) e^{2 i a q}}{R k e^{2 i a k} + R q e^{2 i a k} - k + q} - \\frac{\\left(k + q\\right) e^{- 2 i a q}}{- k + q} = 0$$"
      ],
      "text/plain": [
       "<IPython.core.display.Math object>"
      ]
     },
     "metadata": {},
     "output_type": "display_data"
    }
   ],
   "source": [
    "solA1 = solve(u1ma-u2ma, A)[0]/B\n",
    "solA2 = solve(u2pa-u3pa, A)[0]/B\n",
    "\n",
    "lprint(\"A/B = \", solA1)\n",
    "lprint(\"A/B = \", solA2)\n",
    "mprint(\"A/B - A/B = %s = 0\"%latex(solA1-solA2))"
   ]
  },
  {
   "cell_type": "code",
   "execution_count": 17,
   "metadata": {
    "ExecuteTime": {
     "end_time": "2018-11-23T13:50:29.735208Z",
     "start_time": "2018-11-23T13:50:29.332811Z"
    }
   },
   "outputs": [
    {
     "data": {
      "text/latex": [
       "$$R=- \\frac{\\left(k^{2} - q^{2}\\right) \\left(- e^{4 i a q} + 1\\right) e^{- 2 i a k}}{\\left(- k e^{2 i a q} - k + q e^{2 i a q} - q\\right) \\left(- k e^{2 i a q} + k + q e^{2 i a q} + q\\right)}$$"
      ],
      "text/plain": [
       "<IPython.core.display.Math object>"
      ]
     },
     "metadata": {},
     "output_type": "display_data"
    }
   ],
   "source": [
    "solR = solve(solA1-solA2, R)[0]\n",
    "solRn = sqf(numer(solR), k)\n",
    "solRd = factor(denom(solR))\n",
    "solR = solRn/solRd\n",
    "lprint(\"R=\", solR)"
   ]
  },
  {
   "cell_type": "markdown",
   "metadata": {},
   "source": [
    "### A ve B katsayıları R ve aşağıdaki eşitlikler ile hesaplanabilir"
   ]
  },
  {
   "cell_type": "code",
   "execution_count": 18,
   "metadata": {
    "ExecuteTime": {
     "end_time": "2018-11-23T13:50:30.175097Z",
     "start_time": "2018-11-23T13:50:29.738979Z"
    }
   },
   "outputs": [
    {
     "data": {
      "text/latex": [
       "$$R e^{i a k} + e^{- i a k}=A e^{- i a q} + B e^{i a q}$$"
      ],
      "text/plain": [
       "<IPython.core.display.Math object>"
      ]
     },
     "metadata": {},
     "output_type": "display_data"
    },
    {
     "data": {
      "text/latex": [
       "$$A/B = \\frac{\\left(k + q\\right) e^{- 2 i a q}}{- k + q}$$"
      ],
      "text/plain": [
       "<IPython.core.display.Math object>"
      ]
     },
     "metadata": {},
     "output_type": "display_data"
    },
    {
     "data": {
      "text/latex": [
       "$$B = \\frac{A e^{2 i a q}}{k + q} \\left(- k + q\\right)$$"
      ],
      "text/plain": [
       "<IPython.core.display.Math object>"
      ]
     },
     "metadata": {},
     "output_type": "display_data"
    },
    {
     "data": {
      "text/latex": [
       "$$A = \\frac{2 k \\left(k + q\\right) e^{- i a \\left(k - q\\right)}}{- k^{2} e^{4 i a q} + k^{2} + 2 k q e^{4 i a q} + 2 k q - q^{2} e^{4 i a q} + q^{2}}$$"
      ],
      "text/plain": [
       "<IPython.core.display.Math object>"
      ]
     },
     "metadata": {},
     "output_type": "display_data"
    },
    {
     "data": {
      "text/latex": [
       "$$B = \\frac{2 k \\left(- k + q\\right) e^{2 i a q} e^{- i a \\left(k - q\\right)}}{- k^{2} e^{4 i a q} + k^{2} + 2 k q e^{4 i a q} + 2 k q - q^{2} e^{4 i a q} + q^{2}}$$"
      ],
      "text/plain": [
       "<IPython.core.display.Math object>"
      ]
     },
     "metadata": {},
     "output_type": "display_data"
    }
   ],
   "source": [
    "eprint(u1(-a), \"=\" ,u2(-a))\n",
    "lprint(\"A/B = \", solA2)\n",
    "\n",
    "solB_raw = A/solA2\n",
    "lprint(\"B = \", solB_raw)\n",
    "\n",
    "solA = solve((u1(-a) - u2(-a)).subs({B: solB_raw, R:solR}), A)[0]\n",
    "solB = solB_raw.subs({A:solA})\n",
    "lprint(\"A = \", solA)\n",
    "lprint(\"B = \", solB)"
   ]
  },
  {
   "cell_type": "markdown",
   "metadata": {},
   "source": [
    "### T'de aşağıdaki eşitlikten bulunabilir"
   ]
  },
  {
   "cell_type": "code",
   "execution_count": 19,
   "metadata": {
    "ExecuteTime": {
     "end_time": "2018-11-23T13:50:30.408021Z",
     "start_time": "2018-11-23T13:50:30.178303Z"
    }
   },
   "outputs": [
    {
     "data": {
      "text/latex": [
       "$$A e^{i a q} + B e^{- i a q}=T e^{i a k}$$"
      ],
      "text/plain": [
       "<IPython.core.display.Math object>"
      ]
     },
     "metadata": {},
     "output_type": "display_data"
    },
    {
     "data": {
      "text/latex": [
       "$$T = \\frac{4 k q e^{i a \\left(- 2 k + 2 q\\right)}}{- k^{2} e^{4 i a q} + k^{2} + 2 k q e^{4 i a q} + 2 k q - q^{2} e^{4 i a q} + q^{2}}$$"
      ],
      "text/plain": [
       "<IPython.core.display.Math object>"
      ]
     },
     "metadata": {},
     "output_type": "display_data"
    }
   ],
   "source": [
    "eprint(u2(a), \"=\" ,u3(a))\n",
    "\n",
    "solT = solve((u2(a) - u3(a)).subs({A: solA, B:solB}), T)[0]\n",
    "lprint(\"T = \", solT)"
   ]
  },
  {
   "cell_type": "markdown",
   "metadata": {
    "ExecuteTime": {
     "end_time": "2018-11-20T11:13:39.521728Z",
     "start_time": "2018-11-20T11:13:39.369914Z"
    }
   },
   "source": [
    "### A, B, R ve T için çözümler aşağıdaki gibi olur"
   ]
  },
  {
   "cell_type": "code",
   "execution_count": 20,
   "metadata": {
    "ExecuteTime": {
     "end_time": "2018-11-23T13:50:30.437592Z",
     "start_time": "2018-11-23T13:50:30.411235Z"
    }
   },
   "outputs": [
    {
     "data": {
      "text/latex": [
       "$$A = \\frac{2 k \\left(k + q\\right) e^{- i a \\left(k - q\\right)}}{- k^{2} e^{4 i a q} + k^{2} + 2 k q e^{4 i a q} + 2 k q - q^{2} e^{4 i a q} + q^{2}}$$"
      ],
      "text/plain": [
       "<IPython.core.display.Math object>"
      ]
     },
     "metadata": {},
     "output_type": "display_data"
    },
    {
     "data": {
      "text/latex": [
       "$$B = \\frac{2 k \\left(- k + q\\right) e^{2 i a q} e^{- i a \\left(k - q\\right)}}{- k^{2} e^{4 i a q} + k^{2} + 2 k q e^{4 i a q} + 2 k q - q^{2} e^{4 i a q} + q^{2}}$$"
      ],
      "text/plain": [
       "<IPython.core.display.Math object>"
      ]
     },
     "metadata": {},
     "output_type": "display_data"
    },
    {
     "data": {
      "text/latex": [
       "$$R = - \\frac{\\left(k^{2} - q^{2}\\right) \\left(- e^{4 i a q} + 1\\right) e^{- 2 i a k}}{\\left(- k e^{2 i a q} - k + q e^{2 i a q} - q\\right) \\left(- k e^{2 i a q} + k + q e^{2 i a q} + q\\right)}$$"
      ],
      "text/plain": [
       "<IPython.core.display.Math object>"
      ]
     },
     "metadata": {},
     "output_type": "display_data"
    },
    {
     "data": {
      "text/latex": [
       "$$T = \\frac{4 k q e^{i a \\left(- 2 k + 2 q\\right)}}{- k^{2} e^{4 i a q} + k^{2} + 2 k q e^{4 i a q} + 2 k q - q^{2} e^{4 i a q} + q^{2}}$$"
      ],
      "text/plain": [
       "<IPython.core.display.Math object>"
      ]
     },
     "metadata": {},
     "output_type": "display_data"
    }
   ],
   "source": [
    "lprint(\"A = \", solA)\n",
    "lprint(\"B = \", solB)\n",
    "lprint(\"R = \", solR)\n",
    "lprint(\"T = \", solT)"
   ]
  },
  {
   "cell_type": "markdown",
   "metadata": {},
   "source": [
    "### Yansıma (R) ve geçiş (T) akıları"
   ]
  },
  {
   "cell_type": "code",
   "execution_count": 21,
   "metadata": {
    "ExecuteTime": {
     "end_time": "2018-11-23T13:50:31.026817Z",
     "start_time": "2018-11-23T13:50:30.440710Z"
    }
   },
   "outputs": [
    {
     "data": {
      "text/latex": [
       "$$j_R =- \\frac{\\hbar k \\left(k^{2} - q^{2}\\right)^{2} \\left(e^{4 i a q} - 1\\right)^{2}}{m \\left(- k + q + \\left(k + q\\right) e^{2 i a q}\\right) \\left(k - q + \\left(k + q\\right) e^{2 i a q}\\right) \\left(- k e^{2 i a q} + k + q e^{2 i a q} + q\\right) \\left(k e^{2 i a q} + k - q e^{2 i a q} + q\\right)}$$"
      ],
      "text/plain": [
       "<IPython.core.display.Math object>"
      ]
     },
     "metadata": {},
     "output_type": "display_data"
    },
    {
     "data": {
      "text/latex": [
       "$$j_T =\\frac{16 \\hbar k^{3} q^{2} e^{4 i a q}}{m \\left(- k^{2} + 2 k q - q^{2} + \\left(k^{2} + 2 k q + q^{2}\\right) e^{4 i a q}\\right) \\left(- k^{2} e^{4 i a q} + k^{2} + 2 k q e^{4 i a q} + 2 k q - q^{2} e^{4 i a q} + q^{2}\\right)}$$"
      ],
      "text/plain": [
       "<IPython.core.display.Math object>"
      ]
     },
     "metadata": {},
     "output_type": "display_data"
    }
   ],
   "source": [
    "jR = hbar*k/m * simplify(solR*conjugate(solR))\n",
    "jT = hbar*k/m * simplify(solT*conjugate(solT))\n",
    "lprint(\"j_R =\", jR)\n",
    "lprint(\"j_T =\", jT)"
   ]
  },
  {
   "cell_type": "markdown",
   "metadata": {},
   "source": [
    "### Yansıma (R) ve geçiş (T) akıları: $E$ ve $V_0$ cinsinden"
   ]
  },
  {
   "cell_type": "code",
   "execution_count": 22,
   "metadata": {
    "ExecuteTime": {
     "end_time": "2018-11-23T13:50:32.363562Z",
     "start_time": "2018-11-23T13:50:31.030084Z"
    }
   },
   "outputs": [
    {
     "data": {
      "text/latex": [
       "$$j_R =\\frac{En \\hbar^{3} \\left(En^{2} - \\left(En + V_{0}\\right)^{2}\\right)^{2} \\left(e^{\\frac{2 i}{m} a \\hbar^{2} \\left(En + V_{0}\\right)} - 1\\right)^{2}}{2 m^{2} \\left(V_{0} - \\left(2 En + V_{0}\\right) e^{\\frac{i a}{m} \\hbar^{2} \\left(En + V_{0}\\right)}\\right) \\left(V_{0} + \\left(2 En + V_{0}\\right) e^{\\frac{i a}{m} \\hbar^{2} \\left(En + V_{0}\\right)}\\right) \\left(- En e^{\\frac{i a}{m} \\hbar^{2} \\left(En + V_{0}\\right)} + 2 En + V_{0} + \\left(En + V_{0}\\right) e^{\\frac{i a}{m} \\hbar^{2} \\left(En + V_{0}\\right)}\\right) \\left(En e^{\\frac{i a}{m} \\hbar^{2} \\left(En + V_{0}\\right)} + 2 En + V_{0} - \\left(En + V_{0}\\right) e^{\\frac{i a}{m} \\hbar^{2} \\left(En + V_{0}\\right)}\\right)}$$"
      ],
      "text/plain": [
       "<IPython.core.display.Math object>"
      ]
     },
     "metadata": {},
     "output_type": "display_data"
    },
    {
     "data": {
      "text/latex": [
       "$$j_T =- \\frac{8 En^{3} \\hbar^{3} \\left(En + V_{0}\\right)^{2} e^{\\frac{2 i}{m} a \\hbar^{2} \\left(En + V_{0}\\right)}}{m^{2} \\left(En^{2} - 2 En \\left(En + V_{0}\\right) + \\left(En + V_{0}\\right)^{2} - \\left(En^{2} + 2 En \\left(En + V_{0}\\right) + \\left(En + V_{0}\\right)^{2}\\right) e^{\\frac{2 i}{m} a \\hbar^{2} \\left(En + V_{0}\\right)}\\right) \\left(- En^{2} e^{\\frac{2 i}{m} a \\hbar^{2} \\left(En + V_{0}\\right)} + En^{2} + 2 En \\left(En + V_{0}\\right) e^{\\frac{2 i}{m} a \\hbar^{2} \\left(En + V_{0}\\right)} + 2 En \\left(En + V_{0}\\right) - \\left(En + V_{0}\\right)^{2} e^{\\frac{2 i}{m} a \\hbar^{2} \\left(En + V_{0}\\right)} + \\left(En + V_{0}\\right)^{2}\\right)}$$"
      ],
      "text/plain": [
       "<IPython.core.display.Math object>"
      ]
     },
     "metadata": {},
     "output_type": "display_data"
    }
   ],
   "source": [
    "prms = {q:hbar**2/(2*m) * (En+V_0), k:hbar**2/(2*m) * En}\n",
    "jRe = simplify(jR.subs(prms))\n",
    "jTe = simplify(jT.subs(prms))\n",
    "lprint(\"j_R =\", jRe)\n",
    "lprint(\"j_T =\", jTe)"
   ]
  },
  {
   "cell_type": "markdown",
   "metadata": {},
   "source": [
    "### $x = E/V_0$ değişken dönüşümü"
   ]
  },
  {
   "cell_type": "code",
   "execution_count": 23,
   "metadata": {
    "ExecuteTime": {
     "end_time": "2018-11-23T13:50:33.731343Z",
     "start_time": "2018-11-23T13:50:32.366752Z"
    }
   },
   "outputs": [
    {
     "data": {
      "text/latex": [
       "$$j_R =\\frac{En \\hbar^{3} \\left(x^{2} - \\left(x + 1\\right)^{2}\\right)^{2} \\left(e^{\\frac{2 i En a}{m x} \\hbar^{2} \\left(x + 1\\right)} - 1\\right)^{2}}{2 m^{2} \\left(- \\left(2 x + 1\\right) e^{\\frac{i En a \\hbar^{2}}{m x} \\left(x + 1\\right)} + 1\\right) \\left(\\left(2 x + 1\\right) e^{\\frac{i En a \\hbar^{2}}{m x} \\left(x + 1\\right)} + 1\\right) \\left(x \\left(- e^{\\frac{i En a \\hbar^{2}}{m x} \\left(x + 1\\right)} + 2\\right) + \\left(x + 1\\right) e^{\\frac{i En a \\hbar^{2}}{m x} \\left(x + 1\\right)} + 1\\right) \\left(x \\left(e^{\\frac{i En a \\hbar^{2}}{m x} \\left(x + 1\\right)} + 2\\right) - \\left(x + 1\\right) e^{\\frac{i En a \\hbar^{2}}{m x} \\left(x + 1\\right)} + 1\\right)}$$"
      ],
      "text/plain": [
       "<IPython.core.display.Math object>"
      ]
     },
     "metadata": {},
     "output_type": "display_data"
    },
    {
     "data": {
      "text/latex": [
       "$$j_T =\\frac{8 En \\hbar^{3} x^{2} \\left(x + 1\\right)^{2} e^{\\frac{2 i En a}{m x} \\hbar^{2} \\left(x + 1\\right)}}{m^{2} \\left(x^{2} \\left(e^{\\frac{2 i En a}{m x} \\hbar^{2} \\left(x + 1\\right)} - 1\\right) - 2 x \\left(x + 1\\right) \\left(e^{\\frac{2 i En a}{m x} \\hbar^{2} \\left(x + 1\\right)} + 1\\right) + \\left(x + 1\\right)^{2} \\left(e^{\\frac{2 i En a}{m x} \\hbar^{2} \\left(x + 1\\right)} - 1\\right)\\right) \\left(x^{2} - 2 x \\left(x + 1\\right) + \\left(x + 1\\right)^{2} - \\left(x^{2} + 2 x \\left(x + 1\\right) + \\left(x + 1\\right)^{2}\\right) e^{\\frac{2 i En a}{m x} \\hbar^{2} \\left(x + 1\\right)}\\right)}$$"
      ],
      "text/plain": [
       "<IPython.core.display.Math object>"
      ]
     },
     "metadata": {},
     "output_type": "display_data"
    }
   ],
   "source": [
    "prms = {En:x*V_0, V_0:En/x}\n",
    "jRx = simplify(jRe.subs(prms))\n",
    "jTx = simplify(jTe.subs(prms))\n",
    "lprint(\"j_R =\", jRx)\n",
    "lprint(\"j_T =\", jTx)"
   ]
  },
  {
   "cell_type": "markdown",
   "metadata": {},
   "source": [
    "### $E/V_0 \\geq 1$ için olasılık akılarının grafikleri"
   ]
  },
  {
   "cell_type": "code",
   "execution_count": 24,
   "metadata": {
    "ExecuteTime": {
     "end_time": "2018-11-23T13:50:34.061084Z",
     "start_time": "2018-11-23T13:50:33.734557Z"
    }
   },
   "outputs": [
    {
     "data": {
      "image/png": "[encoded data removed]",
      "text/plain": [
       "<matplotlib.figure.Figure at 0x7fdb7a6686d0>"
      ]
     },
     "metadata": {},
     "output_type": "display_data"
    }
   ],
   "source": [
    "prms = {hbar:1, m:1, En:1, a:1}\n",
    "jRxs = jRx.subs(prms)\n",
    "jTxs = jTx.subs(prms)\n",
    "\n",
    "pl = [jRxs, jTxs, jRxs + jTxs, (x, 1 , 5)]\n",
    "p = plot(*pl, xlabel=\"$E/V_0$\", ylabel= \"$j_R, j_T$\", show=False)\n",
    "p[0].line_color=\"red\"\n",
    "p[1].line_color=\"blue\"\n",
    "p[2].line_color=\"black\"\n",
    "\n",
    "p.show()"
   ]
  },
  {
   "cell_type": "markdown",
   "metadata": {},
   "source": [
    "### Yukarıdaki grafiğin *Matplotlib* ve *NumPy* kütüphaneleri ile çizimi"
   ]
  },
  {
   "cell_type": "code",
   "execution_count": 25,
   "metadata": {
    "ExecuteTime": {
     "end_time": "2018-11-23T13:50:34.692418Z",
     "start_time": "2018-11-23T13:50:34.064412Z"
    }
   },
   "outputs": [
    {
     "data": {
      "image/png": "[encoded data removed]",
      "text/plain": [
       "<matplotlib.figure.Figure at 0x7fdb7a391c50>"
      ]
     },
     "metadata": {},
     "output_type": "display_data"
    },
    {
     "data": {
      "image/png": "[encoded data removed]",
      "text/plain": [
       "<matplotlib.figure.Figure at 0x7fdb78187b90>"
      ]
     },
     "metadata": {},
     "output_type": "display_data"
    }
   ],
   "source": [
    "prms = {hbar:1, m:1, En:1, a:1}\n",
    "nx = 250 # x uzayının bölünme (dx'lerin) sayısı\n",
    "\n",
    "\n",
    "jRxs = lambdify(x, jRx.subs(prms))\n",
    "jTxs = lambdify(x, jTx.subs(prms))\n",
    "\n",
    "xnp = np.linspace(1e-3, 1, nx)\n",
    "\n",
    "plt.figure(figsize=(18, 6))\n",
    "plt.title(u\"$j_T =$ $en \\, büyük$, $j_R = 0$  olan yerlerde geçiş rezonansları vardır\", fontsize=20)\n",
    "plt.plot(xnp, np.real(jRxs(xnp)), label=\"$j_R$\",lw=2)\n",
    "plt.plot(xnp, np.real(jTxs(xnp)), label=\"$j_T$\", lw=2)\n",
    "plt.plot(xnp, np.real(jRxs(xnp)+jTxs(xnp)), label=\"$j_R + j_T$\", lw=2)\n",
    "\n",
    "plt.xlabel(\"$E/V_0$\", fontsize=28)\n",
    "plt.ylabel(\"$j$\", fontsize=28)\n",
    "plt.legend(loc=\"best\")\n",
    "plt.grid()\n",
    "plt.show()\n",
    "\n",
    "xnp = np.linspace(1, 15, nx)\n",
    "\n",
    "plt.figure(figsize=(9, 6))\n",
    "plt.title(u\"$E>>V_0$ için $j_T \\\\rightarrow $ $en \\, büyük$, $j_R \\\\rightarrow 0$ \", fontsize=20)\n",
    "plt.plot(xnp, np.real(jRxs(xnp)), label=\"$j_R$\",lw=2)\n",
    "plt.plot(xnp, np.real(jTxs(xnp)), label=\"$j_T$\", lw=2)\n",
    "plt.plot(xnp, np.real(jRxs(xnp)+jTxs(xnp)), label=\"$j_R + j_T$\", lw=2)\n",
    "\n",
    "plt.xlabel(\"$E/V_0$\", fontsize=28)\n",
    "plt.ylabel(\"$j$\", fontsize=28)\n",
    "plt.legend(loc=\"best\")\n",
    "plt.grid()\n",
    "plt.show()"
   ]
  },
  {
   "cell_type": "markdown",
   "metadata": {},
   "source": [
    "### Dalga fonksiyonlarının reel kısımlarının çizimi"
   ]
  },
  {
   "cell_type": "code",
   "execution_count": 26,
   "metadata": {
    "ExecuteTime": {
     "end_time": "2018-11-23T13:50:34.744546Z",
     "start_time": "2018-11-23T13:50:34.695665Z"
    }
   },
   "outputs": [
    {
     "data": {
      "text/latex": [
       "$$x<-a$$"
      ],
      "text/plain": [
       "<IPython.core.display.Math object>"
      ]
     },
     "metadata": {},
     "output_type": "display_data"
    },
    {
     "data": {
      "text/latex": [
       "$$u_1(x) = - \\frac{\\left(k^{2} - q^{2}\\right) \\left(- e^{4 i a q} + 1\\right) e^{- 2 i a k} e^{- i k x}}{\\left(- k e^{2 i a q} - k + q e^{2 i a q} - q\\right) \\left(- k e^{2 i a q} + k + q e^{2 i a q} + q\\right)} + e^{i k x}$$"
      ],
      "text/plain": [
       "<IPython.core.display.Math object>"
      ]
     },
     "metadata": {},
     "output_type": "display_data"
    },
    {
     "data": {
      "text/latex": [
       "$$-a<x<a$$"
      ],
      "text/plain": [
       "<IPython.core.display.Math object>"
      ]
     },
     "metadata": {},
     "output_type": "display_data"
    },
    {
     "data": {
      "text/latex": [
       "$$u_2(x) = \\frac{2 k \\left(- k + q\\right) e^{2 i a q} e^{- i a \\left(k - q\\right)} e^{- i q x}}{- k^{2} e^{4 i a q} + k^{2} + 2 k q e^{4 i a q} + 2 k q - q^{2} e^{4 i a q} + q^{2}} + \\frac{2 k \\left(k + q\\right) e^{- i a \\left(k - q\\right)} e^{i q x}}{- k^{2} e^{4 i a q} + k^{2} + 2 k q e^{4 i a q} + 2 k q - q^{2} e^{4 i a q} + q^{2}}$$"
      ],
      "text/plain": [
       "<IPython.core.display.Math object>"
      ]
     },
     "metadata": {},
     "output_type": "display_data"
    },
    {
     "data": {
      "text/latex": [
       "$$a<x$$"
      ],
      "text/plain": [
       "<IPython.core.display.Math object>"
      ]
     },
     "metadata": {},
     "output_type": "display_data"
    },
    {
     "data": {
      "text/latex": [
       "$$u_3(x) = \\frac{4 k q e^{i a \\left(- 2 k + 2 q\\right)} e^{i k x}}{- k^{2} e^{4 i a q} + k^{2} + 2 k q e^{4 i a q} + 2 k q - q^{2} e^{4 i a q} + q^{2}}$$"
      ],
      "text/plain": [
       "<IPython.core.display.Math object>"
      ]
     },
     "metadata": {},
     "output_type": "display_data"
    }
   ],
   "source": [
    "u1s = u1(x).subs({R:solR})\n",
    "u2s = u2(x).subs({A:solA, B:solB})\n",
    "u3s = u3(x).subs({T:solT})\n",
    "\n",
    "mprint(\"x<-a\")\n",
    "lprint(\"u_1(x) = \", u1s)\n",
    "mprint(\"-a<x<a\")\n",
    "lprint(\"u_2(x) = \", u2s)\n",
    "mprint(\"a<x\")\n",
    "lprint(\"u_3(x) = \", u3s)"
   ]
  },
  {
   "cell_type": "markdown",
   "metadata": {},
   "source": [
    "### Dalga fonksiyonlarının $E$ ve $V_0$ ile tekrar yazımı"
   ]
  },
  {
   "cell_type": "code",
   "execution_count": 27,
   "metadata": {
    "ExecuteTime": {
     "end_time": "2018-11-23T13:50:34.827241Z",
     "start_time": "2018-11-23T13:50:34.747747Z"
    }
   },
   "outputs": [],
   "source": [
    "prms = {q:hbar**2/(2*m) * (En+V_0), k:hbar**2/(2*m) * En}\n",
    "\n",
    "u1e = u1s.subs(prms)\n",
    "u2e = u2s.subs(prms)\n",
    "u3e = u3s.subs(prms)"
   ]
  },
  {
   "cell_type": "code",
   "execution_count": 28,
   "metadata": {
    "ExecuteTime": {
     "end_time": "2018-11-23T13:50:35.347430Z",
     "start_time": "2018-11-23T13:50:34.830498Z"
    }
   },
   "outputs": [
    {
     "data": {
      "image/png": "[encoded data removed]",
      "text/plain": [
       "<matplotlib.figure.Figure at 0x7fdb7819df50>"
      ]
     },
     "metadata": {},
     "output_type": "display_data"
    }
   ],
   "source": [
    "a0 = 5    # [-a, +a] kuyunun sınırları\n",
    "xoo = 15  # x uzayının pratik sonsuzu\n",
    "En0 = 2   # parçacığın gelme enerjisi\n",
    "V_00 = 1  # kuyunun derinliği\n",
    "nx = 250 # x uzayının bölünme (dx'lerin) sayısı \n",
    "\n",
    "prms = {En:En0, V_0:V_00, a:a0, hbar:1, m:1}\n",
    "xnp1 = np.linspace(-xoo, -a0, nx)\n",
    "xnp2 = np.linspace(-a0, a0, nx)\n",
    "xnp3 = np.linspace(a0, xoo, nx)\n",
    "\n",
    "u1re = re(u1e.subs(prms))\n",
    "u1np = lambdify(x, u1re)\n",
    "\n",
    "u2re = re(u2e.subs(prms))\n",
    "u2np = lambdify(x, u2re)\n",
    "\n",
    "u3re = re(u3e.subs(prms))\n",
    "u3np = lambdify(x, u3re)\n",
    "\n",
    "# çizimin büyüklüğü\n",
    "plt.figure(figsize=(9, 6))\n",
    "\n",
    "# dalga fonksiyonlarını\n",
    "plt.plot(xnp1, np.real(u1np(xnp1)))\n",
    "plt.plot(xnp2, np.real(u2np(xnp2)))\n",
    "plt.plot(xnp3, np.real(u3np(xnp3)))\n",
    "\n",
    "# kuyu\n",
    "plt.plot([-xoo, -a0, -a0, a0, a0, xoo], [0, 0, -V_00, -V_00, 0, 0], lw=4, zorder=-999)\n",
    "\n",
    "# enerji\n",
    "plt.plot([-xoo, xoo], [En0, En0], lw=4, zorder=-999)\n",
    "\n",
    "\n",
    "plt.xlabel(\"$x$\", fontsize=28)\n",
    "plt.ylabel(\"$re[u(x)]$\", fontsize=28)\n",
    "plt.ylim(-En0-V_00, En0+V_00)\n",
    "plt.grid()\n",
    "plt.show()"
   ]
  },
  {
   "cell_type": "markdown",
   "metadata": {},
   "source": [
    "### $|u(x)|^2$ olasılık yoğunluklarının çizimi"
   ]
  },
  {
   "cell_type": "code",
   "execution_count": 29,
   "metadata": {
    "ExecuteTime": {
     "end_time": "2018-11-23T13:50:35.787163Z",
     "start_time": "2018-11-23T13:50:35.350680Z"
    }
   },
   "outputs": [
    {
     "data": {
      "image/png": "[encoded data removed]",
      "text/plain": [
       "<matplotlib.figure.Figure at 0x7fdb7a6a3990>"
      ]
     },
     "metadata": {},
     "output_type": "display_data"
    }
   ],
   "source": [
    "a0 = 5    # [-a, +a] kuyunun sınırları\n",
    "xoo = 15  # x uzayının pratik sonsuzu\n",
    "En0 = 1   # parçacığın gelme enerjisi\n",
    "V_00 = 1  # kuyunun derinliği\n",
    "nx = 250 # x uzayının bölünme (dx'lerin) sayısı \n",
    "\n",
    "prms = {En:En0, V_0:V_00, a:a0, hbar:1, m:1}\n",
    "xnp1 = np.linspace(-xoo, -a0, nx)\n",
    "xnp2 = np.linspace(-a0, a0, nx)\n",
    "xnp3 = np.linspace(a0, xoo, nx)\n",
    "\n",
    "u1re = re(u1e.subs(prms))**2 + im(u1e.subs(prms))**2\n",
    "u1np = lambdify(x, u1re)\n",
    "\n",
    "u2re = re(u2e.subs(prms))**2 + im(u2e.subs(prms))**2\n",
    "u2np = lambdify(x, u2re)\n",
    "\n",
    "u3re = re(u3e.subs(prms))**2 + im(u3e.subs(prms))**2\n",
    "u3np = lambdify(x, u3re)\n",
    "\n",
    "# çizimin büyüklüğü\n",
    "plt.figure(figsize=(9, 6))\n",
    "\n",
    "# dalga fonksiyonlarını\n",
    "plt.plot(xnp1, np.real(u1np(xnp1)))\n",
    "plt.plot(xnp2, np.real(u2np(xnp2)))\n",
    "plt.plot(xnp3, np.real(u3np(xnp3)))\n",
    "\n",
    "# kuyu\n",
    "plt.plot([-xoo, -a0, -a0, a0, a0, xoo], [0, 0, -V_00, -V_00, 0, 0], lw=4, zorder=-999)\n",
    "\n",
    "# enerji\n",
    "plt.plot([-xoo, xoo], [En0, En0], lw=4, zorder=-999)\n",
    "\n",
    "\n",
    "plt.xlabel(\"$x$\", fontsize=28)\n",
    "plt.ylabel(\"$|u(x)|^2$\", fontsize=28)\n",
    "plt.ylim(-V_00*1.25, En0+V_00)\n",
    "plt.grid()\n",
    "plt.show()"
   ]
  },
  {
   "cell_type": "code",
   "execution_count": null,
   "metadata": {},
   "outputs": [],
   "source": []
  }
 ],
 "metadata": {
  "hide_input": false,
  "kernelspec": {
   "display_name": "Python 2",
   "language": "python",
   "name": "python2"
  },
  "language_info": {
   "codemirror_mode": {
    "name": "ipython",
    "version": 2
   },
   "file_extension": ".py",
   "mimetype": "text/x-python",
   "name": "python",
   "nbconvert_exporter": "python",
   "pygments_lexer": "ipython2",
   "version": "2.7.6"
  },
  "toc": {
   "collapse_to_match_collapsible_headings": false,
   "colors": {
    "hover_highlight": "#DAA520",
    "running_highlight": "#FF0000",
    "selected_highlight": "#FFD700"
   },
   "moveMenuLeft": true,
   "nav_menu": {
    "height": "66px",
    "width": "252px"
   },
   "navigate_menu": true,
   "number_sections": true,
   "sideBar": true,
   "threshold": "5",
   "title_cell": "İçindekiler",
   "toc_cell": false,
   "toc_section_display": "block",
   "toc_window_display": true
  },
  "varInspector": {
   "cols": {
    "lenName": 16,
    "lenType": 16,
    "lenVar": 40
   },
   "kernels_config": {
    "python": {
     "delete_cmd_postfix": "",
     "delete_cmd_prefix": "del ",
     "library": "var_list.py",
     "varRefreshCmd": "print(var_dic_list())"
    },
    "r": {
     "delete_cmd_postfix": ") ",
     "delete_cmd_prefix": "rm(",
     "library": "var_list.r",
     "varRefreshCmd": "cat(var_dic_list()) "
    }
   },
   "types_to_exclude": [
    "module",
    "function",
    "builtin_function_or_method",
    "instance",
    "_Feature"
   ],
   "window_display": false
  }
 },
 "nbformat": 4,
 "nbformat_minor": 2
}
